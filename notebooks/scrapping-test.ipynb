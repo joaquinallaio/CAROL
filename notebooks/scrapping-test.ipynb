{
 "cells": [
  {
   "cell_type": "code",
   "execution_count": 3,
   "id": "5b95308e",
   "metadata": {},
   "outputs": [],
   "source": [
    "import re\n",
    "import requests\n",
    "from bs4 import BeautifulSoup\n",
    "import pandas as pd\n",
    "import numpy as np"
   ]
  },
  {
   "cell_type": "code",
   "execution_count": 7,
   "id": "837f111e",
   "metadata": {},
   "outputs": [],
   "source": [
    "response = requests.get(\"https://www.alfabeta.net/precio/abarax.html\") #, headers={\"Accept-Language\":\"en-US\"}\n",
    "soup = BeautifulSoup(response.content, \"html.parser\")"
   ]
  },
  {
   "cell_type": "markdown",
   "id": "b4819638",
   "metadata": {},
   "source": [
    "# Como obtener droga laboratorio y tipo"
   ]
  },
  {
   "cell_type": "code",
   "execution_count": null,
   "id": "03c67f88",
   "metadata": {},
   "outputs": [],
   "source": [
    "for movie in soup.find_all(\"span\", class_=\"defecto\"):\n",
    "    print(movie)"
   ]
  },
  {
   "cell_type": "code",
   "execution_count": 9,
   "id": "5bb3f9a8",
   "metadata": {},
   "outputs": [],
   "source": [
    "response = requests.get(\"https://www.alfabeta.net/precio/actron.html\") #, headers={\"Accept-Language\":\"en-US\"}\n",
    "soup = BeautifulSoup(response.content, \"html.parser\")"
   ]
  },
  {
   "cell_type": "code",
   "execution_count": 10,
   "id": "9db3ba57",
   "metadata": {
    "scrolled": true
   },
   "outputs": [
    {
     "name": "stdout",
     "output_type": "stream",
     "text": [
      "<span class=\"defecto\">Bayer Consumer</span>\n",
      "<span class=\"defecto\" style=\"word-break:break-all;\"><i>ibuprofeno</i></span>\n",
      "<span class=\"defecto\"><i>Analgésico Antiinflam.</i></span>\n"
     ]
    }
   ],
   "source": [
    "for movie in soup.find_all(\"span\", class_=\"defecto\"):\n",
    "    print(movie)"
   ]
  },
  {
   "cell_type": "code",
   "execution_count": 19,
   "id": "36c86c96",
   "metadata": {},
   "outputs": [],
   "source": [
    "lab = soup.find_all(\"span\", class_=\"defecto\")[0].string\n",
    "drug = soup.find_all(\"span\", class_=\"defecto\")[1].string\n",
    "d_type = soup.find_all(\"span\", class_=\"defecto\")[2].string"
   ]
  },
  {
   "cell_type": "markdown",
   "id": "d5bcbf5b",
   "metadata": {},
   "source": [
    "# Como obtener el resto de los datos"
   ]
  },
  {
   "cell_type": "code",
   "execution_count": 39,
   "id": "b3837e9f",
   "metadata": {
    "scrolled": true
   },
   "outputs": [
    {
     "data": {
      "text/plain": [
       "'caps.gelat.blanda x 10 (VL)'"
      ]
     },
     "execution_count": 39,
     "metadata": {},
     "output_type": "execute_result"
    }
   ],
   "source": [
    "description = soup.find_all(\"table\", class_=\"presentacion\")[0].find(\"td\", class_=\"tddesc\")\n",
    "description.get_text()"
   ]
  },
  {
   "cell_type": "code",
   "execution_count": 40,
   "id": "1c620f66",
   "metadata": {},
   "outputs": [
    {
     "data": {
      "text/plain": [
       "256.0"
      ]
     },
     "execution_count": 40,
     "metadata": {},
     "output_type": "execute_result"
    }
   ],
   "source": [
    "price = soup.find_all(\"table\", class_=\"presentacion\")[0].find(\"td\", class_=\"tdprecio\")\n",
    "float(price.get_text().replace(\"$\",\"\"))"
   ]
  },
  {
   "cell_type": "code",
   "execution_count": null,
   "id": "c426c972",
   "metadata": {},
   "outputs": [],
   "source": [
    "#tddesc #tdprecio\n",
    "a_row = pd. Series([1, 2])\n",
    "df = pd. DataFrame([[3, 4], [5, 6]])\n",
    "row_df = pd. DataFrame([a_row])\n",
    "df = pd. concat([row_df, df], ignore_index=True)\n",
    "print(df)"
   ]
  },
  {
   "cell_type": "code",
   "execution_count": 51,
   "id": "1eddf4aa",
   "metadata": {},
   "outputs": [],
   "source": [
    "df = []\n",
    "for dformat in soup.find_all(\"table\", class_=\"presentacion\"):\n",
    "    price = float(dformat.find(\"td\", class_=\"tdprecio\").get_text().replace(\"$\",\"\")) \n",
    "    description = dformat.find(\"td\", class_=\"tddesc\")\n",
    "    df.append([lab, d_type, drug, description, price])\n",
    "    \n",
    "df = pd.DataFrame(df)"
   ]
  },
  {
   "cell_type": "code",
   "execution_count": 52,
   "id": "79d76d8a",
   "metadata": {
    "scrolled": false
   },
   "outputs": [
    {
     "data": {
      "text/html": [
       "<div>\n",
       "<style scoped>\n",
       "    .dataframe tbody tr th:only-of-type {\n",
       "        vertical-align: middle;\n",
       "    }\n",
       "\n",
       "    .dataframe tbody tr th {\n",
       "        vertical-align: top;\n",
       "    }\n",
       "\n",
       "    .dataframe thead th {\n",
       "        text-align: right;\n",
       "    }\n",
       "</style>\n",
       "<table border=\"1\" class=\"dataframe\">\n",
       "  <thead>\n",
       "    <tr style=\"text-align: right;\">\n",
       "      <th></th>\n",
       "      <th>0</th>\n",
       "      <th>1</th>\n",
       "      <th>2</th>\n",
       "      <th>3</th>\n",
       "      <th>4</th>\n",
       "    </tr>\n",
       "  </thead>\n",
       "  <tbody>\n",
       "    <tr>\n",
       "      <th>0</th>\n",
       "      <td>Bayer Consumer</td>\n",
       "      <td>Analgésico Antiinflam.</td>\n",
       "      <td>ibuprofeno</td>\n",
       "      <td>[caps.gelat.blanda x 10, [ (VL)]]</td>\n",
       "      <td>256.0</td>\n",
       "    </tr>\n",
       "    <tr>\n",
       "      <th>1</th>\n",
       "      <td>Bayer Consumer</td>\n",
       "      <td>Analgésico Antiinflam.</td>\n",
       "      <td>ibuprofeno</td>\n",
       "      <td>[caps.gelat.blanda x 20, [ (VL)]]</td>\n",
       "      <td>489.0</td>\n",
       "    </tr>\n",
       "  </tbody>\n",
       "</table>\n",
       "</div>"
      ],
      "text/plain": [
       "                0                       1           2  \\\n",
       "0  Bayer Consumer  Analgésico Antiinflam.  ibuprofeno   \n",
       "1  Bayer Consumer  Analgésico Antiinflam.  ibuprofeno   \n",
       "\n",
       "                                   3      4  \n",
       "0  [caps.gelat.blanda x 10, [ (VL)]]  256.0  \n",
       "1  [caps.gelat.blanda x 20, [ (VL)]]  489.0  "
      ]
     },
     "execution_count": 52,
     "metadata": {},
     "output_type": "execute_result"
    }
   ],
   "source": [
    "df"
   ]
  },
  {
   "cell_type": "code",
   "execution_count": 148,
   "id": "a900ffcf",
   "metadata": {},
   "outputs": [
    {
     "data": {
      "text/plain": [
       "88"
      ]
     },
     "execution_count": 148,
     "metadata": {},
     "output_type": "execute_result"
    }
   ],
   "source": [
    "ip_addresses = [ \"mysuperproxy.com:5000\", \"mysuperproxy.com:5001\", \"mysuperproxy.com:5100\", \"mysuperproxy.com:5010\", \"mysuperproxy.com:5050\", \"mysuperproxy.com:8080\", \"mysuperproxy.com:8001\", \n",
    "\"mysuperproxy.com:8000\", \"mysuperproxy.com:8050\" ]\n",
    "\n",
    "def proxy_request(request_type, url, **kwargs):\n",
    "    while True:\n",
    "        try:\n",
    "            proxy = random.randint(0, len(ip_addresses) - 1)\n",
    "            proxies = {\"http\": ip_addresses(proxy), \"https\": ip_addresses(proxy)}\n",
    "            response = requests.get(request_type, url, proxies=proxies, timeout=5, **kwargs)\n",
    "            print(f\"Proxy currently being used: {proxy['https']}\")\n",
    "            break\n",
    "        except:\n",
    "            print(\"Error, looking for another proxy\")\n",
    "    return response"
   ]
  },
  {
   "cell_type": "code",
   "execution_count": 4,
   "id": "ad44c2f1",
   "metadata": {},
   "outputs": [],
   "source": [
    "def get_brand_df(brand):\n",
    "    response = requests.get(f'https://www.alfabeta.net/precio/{brand}.html') #, headers={\"Accept-Language\":\"en-US\"}\n",
    "    soup = BeautifulSoup(response.content, \"html.parser\")\n",
    "    df = []\n",
    "    \n",
    "    if len(soup.find_all(\"span\", class_=\"defecto\")) == 3:\n",
    "        lab = soup.find_all(\"span\", class_=\"defecto\")[0].string\n",
    "        drug = soup.find_all(\"span\", class_=\"defecto\")[1].string\n",
    "        d_type = soup.find_all(\"span\", class_=\"defecto\")[2].string\n",
    "\n",
    "        for dformat in soup.find_all(\"table\", class_=\"presentacion\"):\n",
    "            price = float(dformat.find(\"td\", class_=\"tdprecio\").get_text().replace(\"$\",\"\")) \n",
    "            description = dformat.find(\"td\", class_=\"tddesc\").get_text()\n",
    "            df.append([lab, d_type, drug, description, price])\n",
    "\n",
    "    return pd.DataFrame(df)"
   ]
  },
  {
   "cell_type": "code",
   "execution_count": 5,
   "id": "6adcd61f",
   "metadata": {},
   "outputs": [
    {
     "data": {
      "text/html": [
       "<div>\n",
       "<style scoped>\n",
       "    .dataframe tbody tr th:only-of-type {\n",
       "        vertical-align: middle;\n",
       "    }\n",
       "\n",
       "    .dataframe tbody tr th {\n",
       "        vertical-align: top;\n",
       "    }\n",
       "\n",
       "    .dataframe thead th {\n",
       "        text-align: right;\n",
       "    }\n",
       "</style>\n",
       "<table border=\"1\" class=\"dataframe\">\n",
       "  <thead>\n",
       "    <tr style=\"text-align: right;\">\n",
       "      <th></th>\n",
       "    </tr>\n",
       "  </thead>\n",
       "  <tbody>\n",
       "  </tbody>\n",
       "</table>\n",
       "</div>"
      ],
      "text/plain": [
       "Empty DataFrame\n",
       "Columns: []\n",
       "Index: []"
      ]
     },
     "execution_count": 5,
     "metadata": {},
     "output_type": "execute_result"
    }
   ],
   "source": [
    "get_brand_df('actron')"
   ]
  },
  {
   "cell_type": "code",
   "execution_count": 26,
   "id": "b05ab319",
   "metadata": {},
   "outputs": [
    {
     "data": {
      "text/html": [
       "<div>\n",
       "<style scoped>\n",
       "    .dataframe tbody tr th:only-of-type {\n",
       "        vertical-align: middle;\n",
       "    }\n",
       "\n",
       "    .dataframe tbody tr th {\n",
       "        vertical-align: top;\n",
       "    }\n",
       "\n",
       "    .dataframe thead th {\n",
       "        text-align: right;\n",
       "    }\n",
       "</style>\n",
       "<table border=\"1\" class=\"dataframe\">\n",
       "  <thead>\n",
       "    <tr style=\"text-align: right;\">\n",
       "      <th></th>\n",
       "      <th>0</th>\n",
       "      <th>1</th>\n",
       "      <th>2</th>\n",
       "      <th>3</th>\n",
       "      <th>4</th>\n",
       "    </tr>\n",
       "  </thead>\n",
       "  <tbody>\n",
       "    <tr>\n",
       "      <th>0</th>\n",
       "      <td>Pfizer</td>\n",
       "      <td>Analgésico</td>\n",
       "      <td>ketorolac</td>\n",
       "      <td>10 mg comp.x 10</td>\n",
       "      <td>778.79</td>\n",
       "    </tr>\n",
       "    <tr>\n",
       "      <th>1</th>\n",
       "      <td>Pfizer</td>\n",
       "      <td>Analgésico</td>\n",
       "      <td>ketorolac</td>\n",
       "      <td>10 mg comp.x 20</td>\n",
       "      <td>1175.47</td>\n",
       "    </tr>\n",
       "    <tr>\n",
       "      <th>2</th>\n",
       "      <td>Pfizer</td>\n",
       "      <td>Analgésico</td>\n",
       "      <td>ketorolac</td>\n",
       "      <td>20 mg comp.x 10</td>\n",
       "      <td>1144.04</td>\n",
       "    </tr>\n",
       "    <tr>\n",
       "      <th>3</th>\n",
       "      <td>Pfizer</td>\n",
       "      <td>Analgésico</td>\n",
       "      <td>ketorolac</td>\n",
       "      <td>20 mg comp.x 20</td>\n",
       "      <td>1804.68</td>\n",
       "    </tr>\n",
       "    <tr>\n",
       "      <th>4</th>\n",
       "      <td>Pfizer</td>\n",
       "      <td>Analgésico</td>\n",
       "      <td>ketorolac</td>\n",
       "      <td>30 mg iny.a.x 5 x 2 ml</td>\n",
       "      <td>1014.53</td>\n",
       "    </tr>\n",
       "    <tr>\n",
       "      <th>5</th>\n",
       "      <td>Pfizer</td>\n",
       "      <td>Analgésico</td>\n",
       "      <td>ketorolac</td>\n",
       "      <td>30 mg iny.a.x 50 x 2 ml</td>\n",
       "      <td>10627.90</td>\n",
       "    </tr>\n",
       "    <tr>\n",
       "      <th>6</th>\n",
       "      <td>Pfizer</td>\n",
       "      <td>Analgésico</td>\n",
       "      <td>ketorolac</td>\n",
       "      <td>60 mg iny.a.x 1 x 2 ml</td>\n",
       "      <td>511.87</td>\n",
       "    </tr>\n",
       "    <tr>\n",
       "      <th>7</th>\n",
       "      <td>Pfizer</td>\n",
       "      <td>Analgésico</td>\n",
       "      <td>ketorolac</td>\n",
       "      <td>60 mg iny.a.x 3 x 2 ml</td>\n",
       "      <td>1539.37</td>\n",
       "    </tr>\n",
       "  </tbody>\n",
       "</table>\n",
       "</div>"
      ],
      "text/plain": [
       "        0           1          2                        3         4\n",
       "0  Pfizer  Analgésico  ketorolac          10 mg comp.x 10    778.79\n",
       "1  Pfizer  Analgésico  ketorolac          10 mg comp.x 20   1175.47\n",
       "2  Pfizer  Analgésico  ketorolac          20 mg comp.x 10   1144.04\n",
       "3  Pfizer  Analgésico  ketorolac          20 mg comp.x 20   1804.68\n",
       "4  Pfizer  Analgésico  ketorolac   30 mg iny.a.x 5 x 2 ml   1014.53\n",
       "5  Pfizer  Analgésico  ketorolac  30 mg iny.a.x 50 x 2 ml  10627.90\n",
       "6  Pfizer  Analgésico  ketorolac   60 mg iny.a.x 1 x 2 ml    511.87\n",
       "7  Pfizer  Analgésico  ketorolac   60 mg iny.a.x 3 x 2 ml   1539.37"
      ]
     },
     "execution_count": 26,
     "metadata": {},
     "output_type": "execute_result"
    }
   ],
   "source": [
    "get_brand_df('dolten')"
   ]
  },
  {
   "cell_type": "code",
   "execution_count": 11,
   "id": "34ec678d",
   "metadata": {
    "scrolled": true
   },
   "outputs": [
    {
     "data": {
      "text/html": [
       "<div>\n",
       "<style scoped>\n",
       "    .dataframe tbody tr th:only-of-type {\n",
       "        vertical-align: middle;\n",
       "    }\n",
       "\n",
       "    .dataframe tbody tr th {\n",
       "        vertical-align: top;\n",
       "    }\n",
       "\n",
       "    .dataframe thead th {\n",
       "        text-align: right;\n",
       "    }\n",
       "</style>\n",
       "<table border=\"1\" class=\"dataframe\">\n",
       "  <thead>\n",
       "    <tr style=\"text-align: right;\">\n",
       "      <th></th>\n",
       "      <th>0</th>\n",
       "      <th>1</th>\n",
       "      <th>2</th>\n",
       "      <th>3</th>\n",
       "      <th>4</th>\n",
       "    </tr>\n",
       "  </thead>\n",
       "  <tbody>\n",
       "    <tr>\n",
       "      <th>0</th>\n",
       "      <td>Organon Arg.</td>\n",
       "      <td>Antialérgico Antiinflamatorio</td>\n",
       "      <td>mometasona furoato</td>\n",
       "      <td>Nas.spray acuoso x140ds.</td>\n",
       "      <td>4526.15</td>\n",
       "    </tr>\n",
       "  </tbody>\n",
       "</table>\n",
       "</div>"
      ],
      "text/plain": [
       "              0                              1                   2  \\\n",
       "0  Organon Arg.  Antialérgico Antiinflamatorio  mometasona furoato   \n",
       "\n",
       "                          3        4  \n",
       "0  Nas.spray acuoso x140ds.  4526.15  "
      ]
     },
     "execution_count": 11,
     "metadata": {},
     "output_type": "execute_result"
    }
   ],
   "source": [
    "get_brand_df('nasonex')"
   ]
  },
  {
   "cell_type": "markdown",
   "id": "63febaaa",
   "metadata": {},
   "source": [
    "# Como obtener la lista de brands"
   ]
  },
  {
   "cell_type": "code",
   "execution_count": 40,
   "id": "246e3786",
   "metadata": {},
   "outputs": [],
   "source": [
    "brands_df = pd.read_csv('brands.csv')"
   ]
  },
  {
   "cell_type": "code",
   "execution_count": 41,
   "id": "ce527b83",
   "metadata": {},
   "outputs": [
    {
     "data": {
      "text/html": [
       "<div>\n",
       "<style scoped>\n",
       "    .dataframe tbody tr th:only-of-type {\n",
       "        vertical-align: middle;\n",
       "    }\n",
       "\n",
       "    .dataframe tbody tr th {\n",
       "        vertical-align: top;\n",
       "    }\n",
       "\n",
       "    .dataframe thead th {\n",
       "        text-align: right;\n",
       "    }\n",
       "</style>\n",
       "<table border=\"1\" class=\"dataframe\">\n",
       "  <thead>\n",
       "    <tr style=\"text-align: right;\">\n",
       "      <th></th>\n",
       "      <th>brands</th>\n",
       "    </tr>\n",
       "  </thead>\n",
       "  <tbody>\n",
       "    <tr>\n",
       "      <th>0</th>\n",
       "      <td>actron</td>\n",
       "    </tr>\n",
       "    <tr>\n",
       "      <th>1</th>\n",
       "      <td>tafirol</td>\n",
       "    </tr>\n",
       "    <tr>\n",
       "      <th>2</th>\n",
       "      <td>abarax</td>\n",
       "    </tr>\n",
       "  </tbody>\n",
       "</table>\n",
       "</div>"
      ],
      "text/plain": [
       "    brands\n",
       "0   actron\n",
       "1  tafirol\n",
       "2   abarax"
      ]
     },
     "execution_count": 41,
     "metadata": {},
     "output_type": "execute_result"
    }
   ],
   "source": [
    "brands_df"
   ]
  },
  {
   "cell_type": "code",
   "execution_count": 43,
   "id": "874cb317",
   "metadata": {},
   "outputs": [],
   "source": [
    "brands = brands_df['brands'].to_numpy()"
   ]
  },
  {
   "cell_type": "code",
   "execution_count": 45,
   "id": "8cc90330",
   "metadata": {},
   "outputs": [
    {
     "name": "stdout",
     "output_type": "stream",
     "text": [
      "brands.csv  elea.html  pfizer.html  Untitled.ipynb\r\n"
     ]
    }
   ],
   "source": [
    "!ls"
   ]
  },
  {
   "cell_type": "markdown",
   "id": "dcc7fd1f",
   "metadata": {},
   "source": [
    "# Sacar las marcas de las paginas de los laboratorios"
   ]
  },
  {
   "cell_type": "code",
   "execution_count": 46,
   "id": "fa94c479",
   "metadata": {},
   "outputs": [],
   "source": [
    "pfizer_page = open('pfizer.html')\n",
    "pfizer_soup = BeautifulSoup(pfizer_page.read())"
   ]
  },
  {
   "cell_type": "code",
   "execution_count": 92,
   "id": "2e48607b",
   "metadata": {},
   "outputs": [],
   "source": [
    "list_of_labs = ['bago', 'elea', 'pfizer']"
   ]
  },
  {
   "cell_type": "code",
   "execution_count": 83,
   "id": "ab41eda0",
   "metadata": {},
   "outputs": [],
   "source": [
    "list_of_labs = ['elea']"
   ]
  },
  {
   "cell_type": "code",
   "execution_count": 94,
   "id": "313e6d18",
   "metadata": {},
   "outputs": [],
   "source": [
    "def get_brands(list_of_labs):\n",
    "    brands = []\n",
    "    for lab in list_of_labs:\n",
    "        page = open(f'{lab}.html')\n",
    "        soup = BeautifulSoup(page.read())\n",
    "        for brand in pfizer_soup.find_all(\"a\", class_=\"rprod\"):\n",
    "            brands.append(brand.string.split(\" \")[0].lower())\n",
    "        \n",
    "    return brands"
   ]
  },
  {
   "cell_type": "code",
   "execution_count": 96,
   "id": "401f3f9f",
   "metadata": {},
   "outputs": [],
   "source": [
    "list_of_brands = list(set(get_brands(list_of_labs)))"
   ]
  },
  {
   "cell_type": "code",
   "execution_count": 97,
   "id": "3350c845",
   "metadata": {},
   "outputs": [
    {
     "data": {
      "text/plain": [
       "['azulfidine',\n",
       " 'celebrex',\n",
       " 'vibramicina',\n",
       " 'isordil',\n",
       " 'trapax',\n",
       " 'depo-provera',\n",
       " 'ixifi',\n",
       " 'xalatan',\n",
       " 'zoloft',\n",
       " 'nordette',\n",
       " 'terra',\n",
       " 'talzenna',\n",
       " 'synrelin',\n",
       " 'fasigyn',\n",
       " 'arteriopril',\n",
       " 'xanax',\n",
       " 'dolten',\n",
       " 'tigify',\n",
       " 'vyndaqel',\n",
       " 'pergamid',\n",
       " 'ibrance',\n",
       " 'lipitor',\n",
       " 'aldactone',\n",
       " 'respimex',\n",
       " 'v',\n",
       " 'ibumax',\n",
       " 'benefix',\n",
       " 'rosuvastatina',\n",
       " 'ibupiretas',\n",
       " 'genotropin',\n",
       " 'viagra',\n",
       " 'abrilada',\n",
       " 'champix',\n",
       " 'dalacin',\n",
       " 'lopid',\n",
       " 'detrusitol',\n",
       " 'rapamune',\n",
       " 'losartan',\n",
       " 'nimenrix',\n",
       " 'pristiq',\n",
       " 'diabinese',\n",
       " 'prolisina',\n",
       " 'dostinex',\n",
       " 'eliquis',\n",
       " 'trazimera',\n",
       " 'sutent',\n",
       " 'zyvox',\n",
       " 'farlutale',\n",
       " 'micronema',\n",
       " 'unasyna',\n",
       " 'inlyta',\n",
       " 'artane',\n",
       " 'somavert',\n",
       " 'trosyd',\n",
       " 'vyndamax',\n",
       " 'xyntha',\n",
       " 'vizimpro',\n",
       " 'ronfase',\n",
       " 'lyrica',\n",
       " 'zavedos',\n",
       " 'cardura',\n",
       " 'zavicefta',\n",
       " 'tramadolten',\n",
       " 'aromasin',\n",
       " 'prevenar',\n",
       " 'solu',\n",
       " 'farmorubicin',\n",
       " 'merozen',\n",
       " 'ruxience',\n",
       " 'zeldox',\n",
       " 'cabaser',\n",
       " 'enbrel',\n",
       " 'premarin',\n",
       " 'minodiab',\n",
       " 'bosulif',\n",
       " 'mucoprednibron',\n",
       " 'besponsa',\n",
       " 'zinforo',\n",
       " 'ibupirac',\n",
       " 'zitromax',\n",
       " 'debridat',\n",
       " 'zirabev',\n",
       " 'tygacil',\n",
       " 'adriblastina',\n",
       " 'neurontin',\n",
       " 'xeljanz',\n",
       " 'efexor',\n",
       " 'relpax',\n",
       " 'xalkori',\n",
       " 'amloc',\n",
       " 'xalacom',\n",
       " 'ecalta',\n",
       " 'lebocar',\n",
       " 'co']"
      ]
     },
     "execution_count": 97,
     "metadata": {},
     "output_type": "execute_result"
    }
   ],
   "source": [
    "list_of_brands"
   ]
  },
  {
   "cell_type": "code",
   "execution_count": 86,
   "id": "eed370e8",
   "metadata": {},
   "outputs": [],
   "source": [
    "def get_df(list_of_brands):\n",
    "    df = pd.DataFrame()\n",
    "    for brand in list_of_brands:\n",
    "        brand_df = get_brand_df(brand)\n",
    "        pd.concat([df, brand_df])\n",
    "    return df"
   ]
  },
  {
   "cell_type": "code",
   "execution_count": 134,
   "id": "467cdaea",
   "metadata": {},
   "outputs": [
    {
     "ename": "IndexError",
     "evalue": "list index out of range",
     "output_type": "error",
     "traceback": [
      "\u001b[0;31m---------------------------------------------------------------------------\u001b[0m",
      "\u001b[0;31mIndexError\u001b[0m                                Traceback (most recent call last)",
      "\u001b[0;32m/tmp/ipykernel_262673/4010975470.py\u001b[0m in \u001b[0;36m<module>\u001b[0;34m\u001b[0m\n\u001b[0;32m----> 1\u001b[0;31m \u001b[0mdf\u001b[0m \u001b[0;34m=\u001b[0m \u001b[0mget_df\u001b[0m\u001b[0;34m(\u001b[0m\u001b[0mlist_of_brands\u001b[0m\u001b[0;34m)\u001b[0m\u001b[0;34m\u001b[0m\u001b[0;34m\u001b[0m\u001b[0m\n\u001b[0m",
      "\u001b[0;32m/tmp/ipykernel_262673/3897439502.py\u001b[0m in \u001b[0;36mget_df\u001b[0;34m(list_of_brands)\u001b[0m\n\u001b[1;32m      2\u001b[0m     \u001b[0mdf\u001b[0m \u001b[0;34m=\u001b[0m \u001b[0mpd\u001b[0m\u001b[0;34m.\u001b[0m\u001b[0mDataFrame\u001b[0m\u001b[0;34m(\u001b[0m\u001b[0;34m)\u001b[0m\u001b[0;34m\u001b[0m\u001b[0;34m\u001b[0m\u001b[0m\n\u001b[1;32m      3\u001b[0m     \u001b[0;32mfor\u001b[0m \u001b[0mbrand\u001b[0m \u001b[0;32min\u001b[0m \u001b[0mlist_of_brands\u001b[0m\u001b[0;34m:\u001b[0m\u001b[0;34m\u001b[0m\u001b[0;34m\u001b[0m\u001b[0m\n\u001b[0;32m----> 4\u001b[0;31m         \u001b[0mbrand_df\u001b[0m \u001b[0;34m=\u001b[0m \u001b[0mget_brand_df\u001b[0m\u001b[0;34m(\u001b[0m\u001b[0mbrand\u001b[0m\u001b[0;34m)\u001b[0m\u001b[0;34m\u001b[0m\u001b[0;34m\u001b[0m\u001b[0m\n\u001b[0m\u001b[1;32m      5\u001b[0m         \u001b[0mpd\u001b[0m\u001b[0;34m.\u001b[0m\u001b[0mconcat\u001b[0m\u001b[0;34m(\u001b[0m\u001b[0;34m[\u001b[0m\u001b[0mdf\u001b[0m\u001b[0;34m,\u001b[0m \u001b[0mbrand_df\u001b[0m\u001b[0;34m]\u001b[0m\u001b[0;34m)\u001b[0m\u001b[0;34m\u001b[0m\u001b[0;34m\u001b[0m\u001b[0m\n\u001b[1;32m      6\u001b[0m     \u001b[0;32mreturn\u001b[0m \u001b[0mdf\u001b[0m\u001b[0;34m\u001b[0m\u001b[0;34m\u001b[0m\u001b[0m\n",
      "\u001b[0;32m/tmp/ipykernel_262673/2477212854.py\u001b[0m in \u001b[0;36mget_brand_df\u001b[0;34m(brand)\u001b[0m\n\u001b[1;32m      1\u001b[0m \u001b[0;32mdef\u001b[0m \u001b[0mget_brand_df\u001b[0m\u001b[0;34m(\u001b[0m\u001b[0mbrand\u001b[0m\u001b[0;34m)\u001b[0m\u001b[0;34m:\u001b[0m\u001b[0;34m\u001b[0m\u001b[0;34m\u001b[0m\u001b[0m\n\u001b[0;32m----> 2\u001b[0;31m     \u001b[0mresponse\u001b[0m \u001b[0;34m=\u001b[0m \u001b[0mrequests\u001b[0m\u001b[0;34m.\u001b[0m\u001b[0mget\u001b[0m\u001b[0;34m(\u001b[0m\u001b[0;34mf'https://www.alfabeta.net/precio/{brand}.html'\u001b[0m\u001b[0;34m,\u001b[0m \u001b[0mproxies\u001b[0m\u001b[0;34m=\u001b[0m\u001b[0;34m{\u001b[0m\u001b[0;34m'http'\u001b[0m\u001b[0;34m:\u001b[0m \u001b[0mlist\u001b[0m\u001b[0;34m(\u001b[0m\u001b[0mget_proxies\u001b[0m\u001b[0;34m(\u001b[0m\u001b[0;34m)\u001b[0m\u001b[0;34m)\u001b[0m\u001b[0;34m[\u001b[0m\u001b[0;36m1\u001b[0m\u001b[0;34m]\u001b[0m\u001b[0;34m,\u001b[0m \u001b[0;34m'https'\u001b[0m\u001b[0;34m:\u001b[0m \u001b[0mlist\u001b[0m\u001b[0;34m(\u001b[0m\u001b[0mget_proxies\u001b[0m\u001b[0;34m(\u001b[0m\u001b[0;34m)\u001b[0m\u001b[0;34m)\u001b[0m\u001b[0;34m[\u001b[0m\u001b[0;36m1\u001b[0m\u001b[0;34m]\u001b[0m \u001b[0;34m}\u001b[0m\u001b[0;34m)\u001b[0m \u001b[0;31m#, headers={\"Accept-Language\":\"en-US\"}\u001b[0m\u001b[0;34m\u001b[0m\u001b[0;34m\u001b[0m\u001b[0m\n\u001b[0m\u001b[1;32m      3\u001b[0m     \u001b[0msoup\u001b[0m \u001b[0;34m=\u001b[0m \u001b[0mBeautifulSoup\u001b[0m\u001b[0;34m(\u001b[0m\u001b[0mresponse\u001b[0m\u001b[0;34m.\u001b[0m\u001b[0mcontent\u001b[0m\u001b[0;34m,\u001b[0m \u001b[0;34m\"html.parser\"\u001b[0m\u001b[0;34m)\u001b[0m\u001b[0;34m\u001b[0m\u001b[0;34m\u001b[0m\u001b[0m\n\u001b[1;32m      4\u001b[0m     \u001b[0mdf\u001b[0m \u001b[0;34m=\u001b[0m \u001b[0;34m[\u001b[0m\u001b[0;34m]\u001b[0m\u001b[0;34m\u001b[0m\u001b[0;34m\u001b[0m\u001b[0m\n\u001b[1;32m      5\u001b[0m \u001b[0;34m\u001b[0m\u001b[0m\n",
      "\u001b[0;31mIndexError\u001b[0m: list index out of range"
     ]
    }
   ],
   "source": [
    "df = get_df(list_of_brands)"
   ]
  },
  {
   "cell_type": "code",
   "execution_count": 101,
   "id": "37972454",
   "metadata": {},
   "outputs": [],
   "source": [
    "import requests\n",
    "from lxml.html import fromstring\n",
    "def get_proxies():\n",
    "    url = 'https://free-proxy-list.net/'\n",
    "    response = requests.get(url)\n",
    "    parser = fromstring(response.text)\n",
    "    proxies = set()\n",
    "    for i in parser.xpath('//tbody/tr')[:10]:\n",
    "        if i.xpath('.//td[7][contains(text(),\"yes\")]'):\n",
    "            #Grabbing IP and corresponding PORT\n",
    "            proxy = \":\".join([i.xpath('.//td[1]/text()')[0], i.xpath('.//td[2]/text()')[0]])\n",
    "            proxies.add(proxy)\n",
    "    return proxies\n"
   ]
  },
  {
   "cell_type": "code",
   "execution_count": 143,
   "id": "68b316b0",
   "metadata": {
    "scrolled": true
   },
   "outputs": [
    {
     "data": {
      "text/plain": [
       "set()"
      ]
     },
     "execution_count": 143,
     "metadata": {},
     "output_type": "execute_result"
    }
   ],
   "source": [
    "get_proxies()"
   ]
  },
  {
   "cell_type": "markdown",
   "id": "2886886f",
   "metadata": {},
   "source": [
    "# Pruebas proxies"
   ]
  },
  {
   "cell_type": "code",
   "execution_count": 118,
   "id": "53744b4e",
   "metadata": {
    "scrolled": true
   },
   "outputs": [
    {
     "ename": "SyntaxError",
     "evalue": "invalid character in identifier (1380352350.py, line 8)",
     "output_type": "error",
     "traceback": [
      "\u001b[0;36m  File \u001b[0;32m\"/tmp/ipykernel_262673/1380352350.py\"\u001b[0;36m, line \u001b[0;32m8\u001b[0m\n\u001b[0;31m    allproxy = soup.find_all(“tr”)\u001b[0m\n\u001b[0m                                ^\u001b[0m\n\u001b[0;31mSyntaxError\u001b[0m\u001b[0;31m:\u001b[0m invalid character in identifier\n"
     ]
    }
   ],
   "source": [
    "from bs4 import BeautifulSoup\n",
    "import requests\n",
    "l={}\n",
    "u=list()\n",
    "url=\"https://www.proxynova.com/proxy-server-list/country-\"+country_code+\"/\"\n",
    "respo = requests.get(url).text\n",
    "soup = BeautifulSoup(respo,\"html.parser\")\n",
    "allproxy = soup.find_all(\"tr\")\n",
    "for proxy in allproxy:\n",
    "foo = proxy.find_all(\"td\")\n",
    "    try: \n",
    "        l[\"ip\"]=foo[0].text.replace(\"\\n\",””).replace(“document.write(“,””).replace(“)”,””).replace(“\\’”,””).replace(“;”,””)\n",
    "    except:\n",
    "        l[“ip”]=None\n",
    "    try:\n",
    "        l[“port”]=foo[1].text.replace(“\\n”,””).replace(“ “,””)\n",
    "    except:\n",
    "        l[“port”]=None\n",
    "    try:\n",
    "        l[“country”]=foo[5].text.replace(“\\n”,””).replace(“ “,””)\n",
    "    except:\n",
    "        l[“country”]=None\n",
    "    if(l[“port”] is not None):\n",
    "        u.append(l)\n",
    " \n",
    "l={}\n",
    "print(u)"
   ]
  },
  {
   "cell_type": "code",
   "execution_count": 144,
   "id": "1f516cc0",
   "metadata": {},
   "outputs": [
    {
     "name": "stdout",
     "output_type": "stream",
     "text": [
      "ProxyError(MaxRetryError(\"HTTPSConnectionPool(host='httpbin.org', port=443): Max retries exceeded with url: /ip (Caused by ProxyError('Cannot connect to proxy.', ConnectionResetError(104, 'Connection reset by peer')))\"))ProxyError(MaxRetryError(\"HTTPSConnectionPool(host='httpbin.org', port=443): Max retries exceeded with url: /ip (Caused by ProxyError('Cannot connect to proxy.', ConnectionResetError(104, 'Connection reset by peer')))\"))\n",
      "\n",
      "ConnectTimeout(MaxRetryError(\"HTTPSConnectionPool(host='httpbin.org', port=443): Max retries exceeded with url: /ip (Caused by ConnectTimeoutError(<urllib3.connection.HTTPSConnection object at 0x7fa4edb304c0>, 'Connection to 187.217.54.84 timed out. (connect timeout=1)'))\"))\n",
      "ConnectTimeout(MaxRetryError(\"HTTPSConnectionPool(host='httpbin.org', port=443): Max retries exceeded with url: /ip (Caused by ConnectTimeoutError(<urllib3.connection.HTTPSConnection object at 0x7fa4d54796a0>, 'Connection to 35.157.249.83 timed out. (connect timeout=1)'))\"))\n",
      "ConnectTimeout(MaxRetryError(\"HTTPSConnectionPool(host='httpbin.org', port=443): Max retries exceeded with url: /ip (Caused by ConnectTimeoutError(<urllib3.connection.HTTPSConnection object at 0x7fa4ed3a9d00>, 'Connection to 144.172.73.50 timed out. (connect timeout=1)'))\"))\n",
      "ProxyError(MaxRetryError(\"HTTPSConnectionPool(host='httpbin.org', port=443): Max retries exceeded with url: /ip (Caused by ProxyError('Cannot connect to proxy.', RemoteDisconnected('Remote end closed connection without response')))\"))\n",
      "ProxyError(MaxRetryError(\"HTTPSConnectionPool(host='httpbin.org', port=443): Max retries exceeded with url: /ip (Caused by ProxyError('Cannot connect to proxy.', RemoteDisconnected('Remote end closed connection without response')))\"))\n",
      "ProxyError(MaxRetryError(\"HTTPSConnectionPool(host='httpbin.org', port=443): Max retries exceeded with url: /ip (Caused by ProxyError('Cannot connect to proxy.', RemoteDisconnected('Remote end closed connection without response')))\"))\n",
      "ProxyError(MaxRetryError(\"HTTPSConnectionPool(host='httpbin.org', port=443): Max retries exceeded with url: /ip (Caused by ProxyError('Cannot connect to proxy.', RemoteDisconnected('Remote end closed connection without response')))\"))\n",
      "SSLError(MaxRetryError(\"HTTPSConnectionPool(host='httpbin.org', port=443): Max retries exceeded with url: /ip (Caused by SSLError(SSLCertVerificationError(1, '[SSL: CERTIFICATE_VERIFY_FAILED] certificate verify failed: EE certificate key too weak (_ssl.c:1131)')))\"))\n",
      "ProxyError(MaxRetryError(\"HTTPSConnectionPool(host='httpbin.org', port=443): Max retries exceeded with url: /ip (Caused by ProxyError('Cannot connect to proxy.', OSError('Tunnel connection failed: 503 Too many open connections')))\"))\n",
      "{'origin': '169.57.1.85'} 200\n",
      "ConnectTimeout(MaxRetryError(\"HTTPSConnectionPool(host='httpbin.org', port=443): Max retries exceeded with url: /ip (Caused by ConnectTimeoutError(<urllib3.connection.HTTPSConnection object at 0x7fa4ed3a9370>, 'Connection to 103.168.52.1 timed out. (connect timeout=1)'))\"))\n",
      "ConnectTimeout(MaxRetryError(\"HTTPSConnectionPool(host='httpbin.org', port=443): Max retries exceeded with url: /ip (Caused by ConnectTimeoutError(<urllib3.connection.HTTPSConnection object at 0x7fa4ed428880>, 'Connection to 200.105.215.18 timed out. (connect timeout=1)'))\"))\n",
      "ConnectTimeout(MaxRetryError(\"HTTPSConnectionPool(host='httpbin.org', port=443): Max retries exceeded with url: /ip (Caused by ConnectTimeoutError(<urllib3.connection.HTTPSConnection object at 0x7fa4eda5f8b0>, 'Connection to 201.217.49.2 timed out. (connect timeout=1)'))\"))\n",
      "ConnectTimeout(MaxRetryError(\"HTTPSConnectionPool(host='httpbin.org', port=443): Max retries exceeded with url: /ip (Caused by ConnectTimeoutError(<urllib3.connection.HTTPSConnection object at 0x7fa4eda11fd0>, 'Connection to 103.168.52.52 timed out. (connect timeout=1)'))\"))\n",
      "ConnectTimeout(MaxRetryError(\"HTTPSConnectionPool(host='httpbin.org', port=443): Max retries exceeded with url: /ip (Caused by ConnectTimeoutError(<urllib3.connection.HTTPSConnection object at 0x7fa4eac2d730>, 'Connection to 74.208.177.198 timed out. (connect timeout=1)'))\"))\n",
      "ConnectTimeout(MaxRetryError(\"HTTPSConnectionPool(host='httpbin.org', port=443): Max retries exceeded with url: /ip (Caused by ConnectTimeoutError(<urllib3.connection.HTTPSConnection object at 0x7fa4ed1c9160>, 'Connection to 45.236.152.45 timed out. (connect timeout=1)'))\"))\n",
      "ConnectTimeout(MaxRetryError(\"HTTPSConnectionPool(host='httpbin.org', port=443): Max retries exceeded with url: /ip (Caused by ConnectTimeoutError(<urllib3.connection.HTTPSConnection object at 0x7fa4eda5f0a0>, 'Connection to 151.106.13.220 timed out. (connect timeout=1)'))\"))\n",
      "ConnectTimeout(MaxRetryError(\"HTTPSConnectionPool(host='httpbin.org', port=443): Max retries exceeded with url: /ip (Caused by ConnectTimeoutError(<urllib3.connection.HTTPSConnection object at 0x7fa4ed3aee50>, 'Connection to 176.120.193.68 timed out. (connect timeout=1)'))\"))\n",
      "ProxyError(MaxRetryError(\"HTTPSConnectionPool(host='httpbin.org', port=443): Max retries exceeded with url: /ip (Caused by ProxyError('Cannot connect to proxy.', timeout('timed out')))\"))\n",
      "ProxyError(MaxRetryError(\"HTTPSConnectionPool(host='httpbin.org', port=443): Max retries exceeded with url: /ip (Caused by ProxyError('Cannot connect to proxy.', timeout('_ssl.c:1114: The handshake operation timed out')))\"))\n",
      "ProxyError(MaxRetryError(\"HTTPSConnectionPool(host='httpbin.org', port=443): Max retries exceeded with url: /ip (Caused by ProxyError('Cannot connect to proxy.', timeout('timed out')))\"))\n",
      "ProxyError(MaxRetryError(\"HTTPSConnectionPool(host='httpbin.org', port=443): Max retries exceeded with url: /ip (Caused by ProxyError('Cannot connect to proxy.', OSError('Tunnel connection failed: 400 Bad Request')))\"))\n",
      "ProxyError(MaxRetryError(\"HTTPSConnectionPool(host='httpbin.org', port=443): Max retries exceeded with url: /ip (Caused by ProxyError('Cannot connect to proxy.', OSError('Tunnel connection failed: 503 Too many open connections')))\"))\n",
      "ConnectTimeout(MaxRetryError(\"HTTPSConnectionPool(host='httpbin.org', port=443): Max retries exceeded with url: /ip (Caused by ConnectTimeoutError(<urllib3.connection.HTTPSConnection object at 0x7fa4edb08a00>, 'Connection to 85.195.104.71 timed out. (connect timeout=1)'))\"))\n",
      "ConnectTimeout(MaxRetryError(\"HTTPSConnectionPool(host='httpbin.org', port=443): Max retries exceeded with url: /ip (Caused by ConnectTimeoutError(<urllib3.connection.HTTPSConnection object at 0x7fa4ed428d00>, 'Connection to 103.155.84.18 timed out. (connect timeout=1)'))\"))\n",
      "ConnectTimeout(MaxRetryError(\"HTTPSConnectionPool(host='httpbin.org', port=443): Max retries exceeded with url: /ip (Caused by ConnectTimeoutError(<urllib3.connection.HTTPSConnection object at 0x7fa4edc2c250>, 'Connection to 124.40.252.182 timed out. (connect timeout=1)'))\"))\n",
      "ConnectTimeout(MaxRetryError(\"HTTPSConnectionPool(host='httpbin.org', port=443): Max retries exceeded with url: /ip (Caused by ConnectTimeoutError(<urllib3.connection.HTTPSConnection object at 0x7fa4eac2dd30>, 'Connection to 151.106.17.125 timed out. (connect timeout=1)'))\"))\n",
      "ConnectTimeout(MaxRetryError(\"HTTPSConnectionPool(host='httpbin.org', port=443): Max retries exceeded with url: /ip (Caused by ConnectTimeoutError(<urllib3.connection.HTTPSConnection object at 0x7fa4d548fd00>, 'Connection to 46.246.82.22 timed out. (connect timeout=1)'))\"))\n",
      "ProxyError(MaxRetryError(\"HTTPSConnectionPool(host='httpbin.org', port=443): Max retries exceeded with url: /ip (Caused by ProxyError('Cannot connect to proxy.', timeout('timed out')))\"))\n",
      "ConnectTimeout(MaxRetryError(\"HTTPSConnectionPool(host='httpbin.org', port=443): Max retries exceeded with url: /ip (Caused by ConnectTimeoutError(<urllib3.connection.HTTPSConnection object at 0x7fa4ed3aeb80>, 'Connection to 190.110.214.38 timed out. (connect timeout=1)'))\"))\n",
      "ConnectTimeout(MaxRetryError(\"HTTPSConnectionPool(host='httpbin.org', port=443): Max retries exceeded with url: /ip (Caused by ConnectTimeoutError(<urllib3.connection.HTTPSConnection object at 0x7fa4edaf7130>, 'Connection to 151.106.17.124 timed out. (connect timeout=1)'))\"))\n",
      "ProxyError(MaxRetryError(\"HTTPSConnectionPool(host='httpbin.org', port=443): Max retries exceeded with url: /ip (Caused by ProxyError('Cannot connect to proxy.', timeout('timed out')))\"))\n",
      "ProxyError(MaxRetryError(\"HTTPSConnectionPool(host='httpbin.org', port=443): Max retries exceeded with url: /ip (Caused by ProxyError('Cannot connect to proxy.', timeout('timed out')))\"))\n",
      "ConnectTimeout(MaxRetryError(\"HTTPSConnectionPool(host='httpbin.org', port=443): Max retries exceeded with url: /ip (Caused by ConnectTimeoutError(<urllib3.connection.HTTPSConnection object at 0x7fa4ed98a0a0>, 'Connection to 151.106.13.222 timed out. (connect timeout=1)'))\"))\n"
     ]
    },
    {
     "name": "stdout",
     "output_type": "stream",
     "text": [
      "ConnectTimeout(MaxRetryError(\"HTTPSConnectionPool(host='httpbin.org', port=443): Max retries exceeded with url: /ip (Caused by ConnectTimeoutError(<urllib3.connection.HTTPSConnection object at 0x7fa4edb301c0>, 'Connection to 151.106.13.221 timed out. (connect timeout=1)'))\"))\n",
      "ProxyError(MaxRetryError(\"HTTPSConnectionPool(host='httpbin.org', port=443): Max retries exceeded with url: /ip (Caused by ProxyError('Cannot connect to proxy.', timeout('timed out')))\"))\n",
      "ConnectTimeout(MaxRetryError(\"HTTPSConnectionPool(host='httpbin.org', port=443): Max retries exceeded with url: /ip (Caused by ConnectTimeoutError(<urllib3.connection.HTTPSConnection object at 0x7fa4edb30640>, 'Connection to 93.177.229.164 timed out. (connect timeout=1)'))\"))\n",
      "ConnectTimeout(MaxRetryError(\"HTTPSConnectionPool(host='httpbin.org', port=443): Max retries exceeded with url: /ip (Caused by ConnectTimeoutError(<urllib3.connection.HTTPSConnection object at 0x7fa4edc2c910>, 'Connection to 45.248.41.216 timed out. (connect timeout=1)'))\"))\n",
      "ConnectTimeout(MaxRetryError(\"HTTPSConnectionPool(host='httpbin.org', port=443): Max retries exceeded with url: /ip (Caused by ConnectTimeoutError(<urllib3.connection.HTTPSConnection object at 0x7fa4edc2ccd0>, 'Connection to 190.145.200.126 timed out. (connect timeout=1)'))\"))\n",
      "ConnectTimeout(MaxRetryError(\"HTTPSConnectionPool(host='httpbin.org', port=443): Max retries exceeded with url: /ip (Caused by ConnectTimeoutError(<urllib3.connection.HTTPSConnection object at 0x7fa4edb08700>, 'Connection to 190.119.199.20 timed out. (connect timeout=1)'))\"))\n",
      "ConnectTimeout(MaxRetryError(\"HTTPSConnectionPool(host='httpbin.org', port=443): Max retries exceeded with url: /ip (Caused by ConnectTimeoutError(<urllib3.connection.HTTPSConnection object at 0x7fa4ed3ae5e0>, 'Connection to 103.73.102.174 timed out. (connect timeout=1)'))\"))\n",
      "ConnectTimeout(MaxRetryError(\"HTTPSConnectionPool(host='httpbin.org', port=443): Max retries exceeded with url: /ip (Caused by ConnectTimeoutError(<urllib3.connection.HTTPSConnection object at 0x7fa4edaf7040>, 'Connection to 151.106.17.122 timed out. (connect timeout=1)'))\"))\n",
      "ProxyError(MaxRetryError(\"HTTPSConnectionPool(host='httpbin.org', port=443): Max retries exceeded with url: /ip (Caused by ProxyError('Cannot connect to proxy.', timeout('timed out')))\"))\n",
      "ConnectTimeout(MaxRetryError(\"HTTPSConnectionPool(host='httpbin.org', port=443): Max retries exceeded with url: /ip (Caused by ConnectTimeoutError(<urllib3.connection.HTTPSConnection object at 0x7fa4eda5f0d0>, 'Connection to 186.215.87.194 timed out. (connect timeout=1)'))\"))\n",
      "ConnectTimeout(MaxRetryError(\"HTTPSConnectionPool(host='httpbin.org', port=443): Max retries exceeded with url: /ip (Caused by ConnectTimeoutError(<urllib3.connection.HTTPSConnection object at 0x7fa4eda5f520>, 'Connection to 217.30.173.108 timed out. (connect timeout=1)'))\"))\n",
      "ConnectTimeout(MaxRetryError(\"HTTPSConnectionPool(host='httpbin.org', port=443): Max retries exceeded with url: /ip (Caused by ConnectTimeoutError(<urllib3.connection.HTTPSConnection object at 0x7fa4ed98a0d0>, 'Connection to 77.233.5.68 timed out. (connect timeout=1)'))\"))\n",
      "ConnectTimeout(MaxRetryError(\"HTTPSConnectionPool(host='httpbin.org', port=443): Max retries exceeded with url: /ip (Caused by ConnectTimeoutError(<urllib3.connection.HTTPSConnection object at 0x7fa4ed428790>, 'Connection to 113.175.8.99 timed out. (connect timeout=1)'))\"))\n",
      "ConnectTimeout(MaxRetryError(\"HTTPSConnectionPool(host='httpbin.org', port=443): Max retries exceeded with url: /ip (Caused by ConnectTimeoutError(<urllib3.connection.HTTPSConnection object at 0x7fa4edb308e0>, 'Connection to 159.65.69.186 timed out. (connect timeout=1)'))\"))\n",
      "ConnectTimeout(MaxRetryError(\"HTTPSConnectionPool(host='httpbin.org', port=443): Max retries exceeded with url: /ip (Caused by ConnectTimeoutError(<urllib3.connection.HTTPSConnection object at 0x7fa4ed1c97f0>, 'Connection to 46.105.35.193 timed out. (connect timeout=1)'))\"))\n",
      "ConnectTimeout(MaxRetryError(\"HTTPSConnectionPool(host='httpbin.org', port=443): Max retries exceeded with url: /ip (Caused by ConnectTimeoutError(<urllib3.connection.HTTPSConnection object at 0x7fa4ed3a9940>, 'Connection to 185.12.68.163 timed out. (connect timeout=1)'))\"))\n",
      "ConnectTimeout(MaxRetryError(\"HTTPSConnectionPool(host='httpbin.org', port=443): Max retries exceeded with url: /ip (Caused by ConnectTimeoutError(<urllib3.connection.HTTPSConnection object at 0x7fa4eac05d90>, 'Connection to 5.196.124.204 timed out. (connect timeout=1)'))\"))\n",
      "ProxyError(MaxRetryError(\"HTTPSConnectionPool(host='httpbin.org', port=443): Max retries exceeded with url: /ip (Caused by ProxyError('Cannot connect to proxy.', ConnectionResetError(104, 'Connection reset by peer')))\"))\n",
      "ConnectTimeout(MaxRetryError(\"HTTPSConnectionPool(host='httpbin.org', port=443): Max retries exceeded with url: /ip (Caused by ConnectTimeoutError(<urllib3.connection.HTTPSConnection object at 0x7fa4ed98a2b0>, 'Connection to 151.106.17.123 timed out. (connect timeout=1)'))\"))\n",
      "ConnectTimeout(MaxRetryError(\"HTTPSConnectionPool(host='httpbin.org', port=443): Max retries exceeded with url: /ip (Caused by ConnectTimeoutError(<urllib3.connection.HTTPSConnection object at 0x7fa4eda11760>, 'Connection to 94.127.219.99 timed out. (connect timeout=1)'))\"))\n",
      "ConnectTimeout(MaxRetryError(\"HTTPSConnectionPool(host='httpbin.org', port=443): Max retries exceeded with url: /ip (Caused by ConnectTimeoutError(<urllib3.connection.HTTPSConnection object at 0x7fa4edc2cfa0>, 'Connection to 50.233.42.98 timed out. (connect timeout=1)'))\"))\n",
      "ConnectTimeout(MaxRetryError(\"HTTPSConnectionPool(host='httpbin.org', port=443): Max retries exceeded with url: /ip (Caused by ConnectTimeoutError(<urllib3.connection.HTTPSConnection object at 0x7fa4edc2c1c0>, 'Connection to 150.129.171.35 timed out. (connect timeout=1)'))\"))\n",
      "ConnectTimeout(MaxRetryError(\"HTTPSConnectionPool(host='httpbin.org', port=443): Max retries exceeded with url: /ip (Caused by ConnectTimeoutError(<urllib3.connection.HTTPSConnection object at 0x7fa4ed052a00>, 'Connection to 195.211.180.156 timed out. (connect timeout=1)'))\"))\n",
      "ConnectTimeout(MaxRetryError(\"HTTPSConnectionPool(host='httpbin.org', port=443): Max retries exceeded with url: /ip (Caused by ConnectTimeoutError(<urllib3.connection.HTTPSConnection object at 0x7fa4edaf7580>, 'Connection to 213.230.97.10 timed out. (connect timeout=1)'))\"))\n",
      "ConnectTimeout(MaxRetryError(\"HTTPSConnectionPool(host='httpbin.org', port=443): Max retries exceeded with url: /ip (Caused by ConnectTimeoutError(<urllib3.connection.HTTPSConnection object at 0x7fa4eda5fd30>, 'Connection to 35.239.234.10 timed out. (connect timeout=1)'))\"))\n",
      "ConnectTimeout(MaxRetryError(\"HTTPSConnectionPool(host='httpbin.org', port=443): Max retries exceeded with url: /ip (Caused by ConnectTimeoutError(<urllib3.connection.HTTPSConnection object at 0x7fa4ed3a9b20>, 'Connection to 176.99.2.43 timed out. (connect timeout=1)'))\"))\n",
      "ProxyError(MaxRetryError(\"HTTPSConnectionPool(host='httpbin.org', port=443): Max retries exceeded with url: /ip (Caused by ProxyError('Cannot connect to proxy.', ConnectionResetError(104, 'Connection reset by peer')))\"))\n",
      "ConnectTimeout(MaxRetryError(\"HTTPSConnectionPool(host='httpbin.org', port=443): Max retries exceeded with url: /ip (Caused by ConnectTimeoutError(<urllib3.connection.HTTPSConnection object at 0x7fa4edc2cb80>, 'Connection to 84.214.150.146 timed out. (connect timeout=1)'))\"))\n",
      "ConnectTimeout(MaxRetryError(\"HTTPSConnectionPool(host='httpbin.org', port=443): Max retries exceeded with url: /ip (Caused by ConnectTimeoutError(<urllib3.connection.HTTPSConnection object at 0x7fa4ed3a9a30>, 'Connection to 216.137.184.253 timed out. (connect timeout=1)'))\"))\n",
      "ConnectTimeout(MaxRetryError(\"HTTPSConnectionPool(host='httpbin.org', port=443): Max retries exceeded with url: /ip (Caused by ConnectTimeoutError(<urllib3.connection.HTTPSConnection object at 0x7fa4edaf7d30>, 'Connection to 151.106.17.126 timed out. (connect timeout=1)'))\"))\n",
      "ConnectTimeout(MaxRetryError(\"HTTPSConnectionPool(host='httpbin.org', port=443): Max retries exceeded with url: /ip (Caused by ConnectTimeoutError(<urllib3.connection.HTTPSConnection object at 0x7fa4eac14fd0>, 'Connection to 43.132.197.151 timed out. (connect timeout=1)'))\"))\n"
     ]
    },
    {
     "name": "stdout",
     "output_type": "stream",
     "text": [
      "ConnectTimeout(MaxRetryError(\"HTTPSConnectionPool(host='httpbin.org', port=443): Max retries exceeded with url: /ip (Caused by ConnectTimeoutError(<urllib3.connection.HTTPSConnection object at 0x7fa4ed98a280>, 'Connection to 185.237.10.185 timed out. (connect timeout=1)'))\"))\n",
      "ConnectTimeout(MaxRetryError(\"HTTPSConnectionPool(host='httpbin.org', port=443): Max retries exceeded with url: /ip (Caused by ConnectTimeoutError(<urllib3.connection.HTTPSConnection object at 0x7fa4eda11580>, 'Connection to 170.254.224.7 timed out. (connect timeout=1)'))\"))\n",
      "ProxyError(MaxRetryError(\"HTTPSConnectionPool(host='httpbin.org', port=443): Max retries exceeded with url: /ip (Caused by ProxyError('Cannot connect to proxy.', NewConnectionError('<urllib3.connection.HTTPSConnection object at 0x7fa4ed1c9d30>: Failed to establish a new connection: [Errno 111] Connection refused')))\"))\n",
      "ConnectTimeout(MaxRetryError(\"HTTPSConnectionPool(host='httpbin.org', port=443): Max retries exceeded with url: /ip (Caused by ConnectTimeoutError(<urllib3.connection.HTTPSConnection object at 0x7fa4ed3a92b0>, 'Connection to 37.232.183.74 timed out. (connect timeout=1)'))\"))\n",
      "ProxyError(MaxRetryError(\"HTTPSConnectionPool(host='httpbin.org', port=443): Max retries exceeded with url: /ip (Caused by ProxyError('Cannot connect to proxy.', NewConnectionError('<urllib3.connection.HTTPSConnection object at 0x7fa4ed052520>: Failed to establish a new connection: [Errno 111] Connection refused')))\"))\n",
      "ConnectTimeout(MaxRetryError(\"HTTPSConnectionPool(host='httpbin.org', port=443): Max retries exceeded with url: /ip (Caused by ConnectTimeoutError(<urllib3.connection.HTTPSConnection object at 0x7fa4eda5f940>, 'Connection to 41.65.236.43 timed out. (connect timeout=1)'))\"))\n",
      "ConnectTimeout(MaxRetryError(\"HTTPSConnectionPool(host='httpbin.org', port=443): Max retries exceeded with url: /ip (Caused by ConnectTimeoutError(<urllib3.connection.HTTPSConnection object at 0x7fa4edb30790>, 'Connection to 151.106.13.219 timed out. (connect timeout=1)'))\"))\n",
      "ProxyError(MaxRetryError(\"HTTPSConnectionPool(host='httpbin.org', port=443): Max retries exceeded with url: /ip (Caused by ProxyError('Cannot connect to proxy.', OSError('Tunnel connection failed: 503 Too many open connections')))\"))\n",
      "ConnectTimeout(MaxRetryError(\"HTTPSConnectionPool(host='httpbin.org', port=443): Max retries exceeded with url: /ip (Caused by ConnectTimeoutError(<urllib3.connection.HTTPSConnection object at 0x7fa4ed428880>, 'Connection to 43.255.113.232 timed out. (connect timeout=1)'))\"))\n",
      "ConnectTimeout(MaxRetryError(\"HTTPSConnectionPool(host='httpbin.org', port=443): Max retries exceeded with url: /ip (Caused by ConnectTimeoutError(<urllib3.connection.HTTPSConnection object at 0x7fa4ed3ae340>, 'Connection to 185.118.129.35 timed out. (connect timeout=1)'))\"))\n",
      "SSLError(MaxRetryError(\"HTTPSConnectionPool(host='httpbin.org', port=443): Max retries exceeded with url: /ip (Caused by SSLError(SSLCertVerificationError(1, '[SSL: CERTIFICATE_VERIFY_FAILED] certificate verify failed: EE certificate key too weak (_ssl.c:1131)')))\"))\n",
      "ConnectTimeout(MaxRetryError(\"HTTPSConnectionPool(host='httpbin.org', port=443): Max retries exceeded with url: /ip (Caused by ConnectTimeoutError(<urllib3.connection.HTTPSConnection object at 0x7fa4eda5f190>, 'Connection to 62.183.81.38 timed out. (connect timeout=1)'))\"))\n",
      "ConnectTimeout(MaxRetryError(\"HTTPSConnectionPool(host='httpbin.org', port=443): Max retries exceeded with url: /ip (Caused by ConnectTimeoutError(<urllib3.connection.HTTPSConnection object at 0x7fa4d548a100>, 'Connection to 35.180.247.205 timed out. (connect timeout=1)'))\"))\n",
      "ConnectTimeout(MaxRetryError(\"HTTPSConnectionPool(host='httpbin.org', port=443): Max retries exceeded with url: /ip (Caused by ConnectTimeoutError(<urllib3.connection.HTTPSConnection object at 0x7fa4eda11a90>, 'Connection to 104.45.128.122 timed out. (connect timeout=1)'))\"))\n",
      "ConnectTimeout(MaxRetryError(\"HTTPSConnectionPool(host='httpbin.org', port=443): Max retries exceeded with url: /ip (Caused by ConnectTimeoutError(<urllib3.connection.HTTPSConnection object at 0x7fa4ed3ae940>, 'Connection to 167.172.158.85 timed out. (connect timeout=1)'))\"))\n",
      "ConnectTimeout(MaxRetryError(\"HTTPSConnectionPool(host='httpbin.org', port=443): Max retries exceeded with url: /ip (Caused by ConnectTimeoutError(<urllib3.connection.HTTPSConnection object at 0x7fa4edc2cc70>, 'Connection to 164.132.170.100 timed out. (connect timeout=1)'))\"))\n",
      "ProxyError(MaxRetryError(\"HTTPSConnectionPool(host='httpbin.org', port=443): Max retries exceeded with url: /ip (Caused by ProxyError('Cannot connect to proxy.', ConnectionResetError(104, 'Connection reset by peer')))\"))\n",
      "ConnectTimeout(MaxRetryError(\"HTTPSConnectionPool(host='httpbin.org', port=443): Max retries exceeded with url: /ip (Caused by ConnectTimeoutError(<urllib3.connection.HTTPSConnection object at 0x7fa4ed428760>, 'Connection to 192.169.178.190 timed out. (connect timeout=1)'))\"))\n",
      "ConnectTimeout(MaxRetryError(\"HTTPSConnectionPool(host='httpbin.org', port=443): Max retries exceeded with url: /ip (Caused by ConnectTimeoutError(<urllib3.connection.HTTPSConnection object at 0x7fa4ed052820>, 'Connection to 138.197.102.119 timed out. (connect timeout=1)'))\"))\n",
      "ConnectTimeout(MaxRetryError(\"HTTPSConnectionPool(host='httpbin.org', port=443): Max retries exceeded with url: /ip (Caused by ConnectTimeoutError(<urllib3.connection.HTTPSConnection object at 0x7fa4edaf7070>, 'Connection to 176.58.112.227 timed out. (connect timeout=1)'))\"))\n",
      "ConnectTimeout(MaxRetryError(\"HTTPSConnectionPool(host='httpbin.org', port=443): Max retries exceeded with url: /ip (Caused by ConnectTimeoutError(<urllib3.connection.HTTPSConnection object at 0x7fa4eddaa250>, 'Connection to 167.172.178.193 timed out. (connect timeout=1)'))\"))\n"
     ]
    }
   ],
   "source": [
    "import requests\n",
    "from bs4 import BeautifulSoup\n",
    "import random\n",
    "import concurrent.futures\n",
    "\n",
    "#get the list of free proxies\n",
    "def getProxies():\n",
    "    r = requests.get('https://free-proxy-list.net/')\n",
    "    soup = BeautifulSoup(r.content, 'html.parser')\n",
    "    table = soup.find('tbody')\n",
    "    proxies = []\n",
    "    for row in table:\n",
    "        if row.find_all('td')[4].text =='elite proxy':\n",
    "            proxy = ':'.join([row.find_all('td')[0].text, row.find_all('td')[1].text])\n",
    "            proxies.append(proxy)\n",
    "        else:\n",
    "            pass\n",
    "    return proxies\n",
    "\n",
    "def extract(proxy):\n",
    "    #this was for when we took a list into the function, without conc futures.\n",
    "    #proxy = random.choice(proxylist)\n",
    "    headers = {'User-Agent': 'Mozilla/5.0 (Windows NT 10.0; Win64; x64; rv:80.0) Gecko/20100101 Firefox/80.0'}\n",
    "    try:\n",
    "        #change the url to https://httpbin.org/ip that doesnt block anything\n",
    "        r = requests.get('https://httpbin.org/ip', headers=headers, proxies={'http' : proxy,'https': proxy}, timeout=1)\n",
    "        print(r.json(), r.status_code)\n",
    "    except requests.ConnectionError as err:\n",
    "        print(repr(err))\n",
    "    return proxy\n",
    "\n",
    "proxylist = getProxies()\n",
    "#print(len(proxylist))\n",
    "\n",
    "#check them all with futures super quick\n",
    "with concurrent.futures.ThreadPoolExecutor() as executor:\n",
    "        executor.map(extract, proxylist)"
   ]
  },
  {
   "cell_type": "code",
   "execution_count": 145,
   "id": "021aa2c9",
   "metadata": {},
   "outputs": [
    {
     "data": {
      "text/plain": [
       "['187.217.54.84:80',\n",
       " '80.48.119.28:8080',\n",
       " '103.141.142.153:41410',\n",
       " '103.141.142.102:41367',\n",
       " '169.57.1.85:8123',\n",
       " '103.141.142.1:41317',\n",
       " '103.141.143.102:41516',\n",
       " '112.78.163.237:8089',\n",
       " '144.172.73.50:80',\n",
       " '35.157.249.83:39593',\n",
       " '151.106.18.125:1080',\n",
       " '195.158.30.232:3128',\n",
       " '103.168.52.1:1344',\n",
       " '167.114.96.27:9300',\n",
       " '200.105.215.18:33630',\n",
       " '157.100.26.69:80',\n",
       " '201.217.49.2:80',\n",
       " '103.168.52.52:1390',\n",
       " '18.196.224.91:36776',\n",
       " '74.208.177.198:80',\n",
       " '45.236.152.45:6666',\n",
       " '151.106.13.220:1080',\n",
       " '176.120.193.68:55443',\n",
       " '61.19.42.140:80',\n",
       " '85.195.104.71:80',\n",
       " '103.155.84.18:8008',\n",
       " '185.125.169.24:8118',\n",
       " '124.40.252.182:8080',\n",
       " '151.106.17.125:1080',\n",
       " '46.246.82.22:8888',\n",
       " '178.32.223.222:8118',\n",
       " '190.110.214.38:9812',\n",
       " '54.93.165.96:39593',\n",
       " '167.71.171.243:80',\n",
       " '151.106.17.124:1080',\n",
       " '151.106.13.222:1080',\n",
       " '151.106.13.221:1080',\n",
       " '200.7.10.158:8080',\n",
       " '93.177.229.164:9812',\n",
       " '45.248.41.216:9812',\n",
       " '103.168.53.105:1583',\n",
       " '190.145.200.126:53281',\n",
       " '190.119.199.20:57333',\n",
       " '103.73.102.174:60080',\n",
       " '151.106.17.122:1080',\n",
       " '186.215.87.194:8895',\n",
       " '217.30.173.108:8080',\n",
       " '77.233.5.68:55443',\n",
       " '113.175.8.99:9812',\n",
       " '159.65.69.186:9300',\n",
       " '162.144.116.103:80',\n",
       " '46.105.35.193:8080',\n",
       " '185.12.68.163:43393',\n",
       " '5.196.124.204:80',\n",
       " '151.106.17.123:1080',\n",
       " '94.127.219.99:8080',\n",
       " '50.233.42.98:51696',\n",
       " '150.129.171.35:30093',\n",
       " '195.211.180.156:3128',\n",
       " '213.230.97.10:3128',\n",
       " '35.239.234.10:80',\n",
       " '176.99.2.43:1081',\n",
       " '64.227.23.88:8118',\n",
       " '84.214.150.146:8080',\n",
       " '216.137.184.253:80',\n",
       " '151.106.18.122:1080',\n",
       " '151.106.17.126:1080',\n",
       " '43.132.197.151:443',\n",
       " '185.237.10.185:9812',\n",
       " '170.254.224.7:55443',\n",
       " '37.232.183.74:53281',\n",
       " '41.65.236.43:1981',\n",
       " '151.106.13.219:1080',\n",
       " '43.255.113.232:8082',\n",
       " '185.118.129.35:8080',\n",
       " '68.183.191.179:38529',\n",
       " '79.160.83.167:8118',\n",
       " '85.15.152.39:3128',\n",
       " '62.183.81.38:8080',\n",
       " '35.180.247.205:80',\n",
       " '104.45.128.122:80',\n",
       " '167.172.158.85:81',\n",
       " '164.132.170.100:80',\n",
       " '192.169.178.190:80',\n",
       " '52.168.34.113:80',\n",
       " '138.197.102.119:80',\n",
       " '176.58.112.227:80',\n",
       " '167.172.178.193:34069']"
      ]
     },
     "execution_count": 145,
     "metadata": {},
     "output_type": "execute_result"
    }
   ],
   "source": [
    "proxylist"
   ]
  }
 ],
 "metadata": {
  "kernelspec": {
   "display_name": "Python 3 (ipykernel)",
   "language": "python",
   "name": "python3"
  },
  "language_info": {
   "codemirror_mode": {
    "name": "ipython",
    "version": 3
   },
   "file_extension": ".py",
   "mimetype": "text/x-python",
   "name": "python",
   "nbconvert_exporter": "python",
   "pygments_lexer": "ipython3",
   "version": "3.8.12"
  },
  "toc": {
   "base_numbering": 1,
   "nav_menu": {},
   "number_sections": true,
   "sideBar": true,
   "skip_h1_title": false,
   "title_cell": "Table of Contents",
   "title_sidebar": "Contents",
   "toc_cell": false,
   "toc_position": {},
   "toc_section_display": true,
   "toc_window_display": false
  }
 },
 "nbformat": 4,
 "nbformat_minor": 5
}
