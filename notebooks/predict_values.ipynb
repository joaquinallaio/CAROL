{
 "cells": [
  {
   "cell_type": "code",
   "execution_count": 1,
   "id": "80f98d6d",
   "metadata": {},
   "outputs": [],
   "source": [
    "import matplotlib.pyplot as plt\n",
    "import matplotlib.image as mpimg\n",
    "import numpy as np\n",
    "from jarowinkler import jarowinkler_similarity\n",
    "import pandas as pd"
   ]
  },
  {
   "cell_type": "code",
   "execution_count": 2,
   "id": "14d72279",
   "metadata": {},
   "outputs": [
    {
     "ename": "FileNotFoundError",
     "evalue": "[Errno 2] No such file or directory: 'prescription_1.jpeg'",
     "output_type": "error",
     "traceback": [
      "\u001b[0;31m---------------------------------------------------------------------------\u001b[0m",
      "\u001b[0;31mFileNotFoundError\u001b[0m                         Traceback (most recent call last)",
      "Input \u001b[0;32mIn [2]\u001b[0m, in \u001b[0;36m<cell line: 1>\u001b[0;34m()\u001b[0m\n\u001b[0;32m----> 1\u001b[0m img \u001b[38;5;241m=\u001b[39m \u001b[43mmpimg\u001b[49m\u001b[38;5;241;43m.\u001b[39;49m\u001b[43mimread\u001b[49m\u001b[43m(\u001b[49m\u001b[38;5;124;43m'\u001b[39;49m\u001b[38;5;124;43mprescription_1.jpeg\u001b[39;49m\u001b[38;5;124;43m'\u001b[39;49m\u001b[43m)\u001b[49m\n\u001b[1;32m      2\u001b[0m imgplot \u001b[38;5;241m=\u001b[39m plt\u001b[38;5;241m.\u001b[39mimshow(img)\n\u001b[1;32m      3\u001b[0m plt\u001b[38;5;241m.\u001b[39mshow()\n",
      "File \u001b[0;32m~/.pyenv/versions/3.8.12/envs/lewagon/lib/python3.8/site-packages/matplotlib/image.py:1560\u001b[0m, in \u001b[0;36mimread\u001b[0;34m(fname, format)\u001b[0m\n\u001b[1;32m   1558\u001b[0m                 response \u001b[38;5;241m=\u001b[39m io\u001b[38;5;241m.\u001b[39mBytesIO(response\u001b[38;5;241m.\u001b[39mread())\n\u001b[1;32m   1559\u001b[0m             \u001b[38;5;28;01mreturn\u001b[39;00m imread(response, \u001b[38;5;28mformat\u001b[39m\u001b[38;5;241m=\u001b[39mext)\n\u001b[0;32m-> 1560\u001b[0m \u001b[38;5;28;01mwith\u001b[39;00m \u001b[43mimg_open\u001b[49m\u001b[43m(\u001b[49m\u001b[43mfname\u001b[49m\u001b[43m)\u001b[49m \u001b[38;5;28;01mas\u001b[39;00m image:\n\u001b[1;32m   1561\u001b[0m     \u001b[38;5;28;01mreturn\u001b[39;00m (_pil_png_to_float_array(image)\n\u001b[1;32m   1562\u001b[0m             \u001b[38;5;28;01mif\u001b[39;00m \u001b[38;5;28misinstance\u001b[39m(image, PIL\u001b[38;5;241m.\u001b[39mPngImagePlugin\u001b[38;5;241m.\u001b[39mPngImageFile) \u001b[38;5;28;01melse\u001b[39;00m\n\u001b[1;32m   1563\u001b[0m             pil_to_array(image))\n",
      "File \u001b[0;32m~/.pyenv/versions/3.8.12/envs/lewagon/lib/python3.8/site-packages/PIL/Image.py:2953\u001b[0m, in \u001b[0;36mopen\u001b[0;34m(fp, mode, formats)\u001b[0m\n\u001b[1;32m   2950\u001b[0m     filename \u001b[38;5;241m=\u001b[39m fp\n\u001b[1;32m   2952\u001b[0m \u001b[38;5;28;01mif\u001b[39;00m filename:\n\u001b[0;32m-> 2953\u001b[0m     fp \u001b[38;5;241m=\u001b[39m \u001b[43mbuiltins\u001b[49m\u001b[38;5;241;43m.\u001b[39;49m\u001b[43mopen\u001b[49m\u001b[43m(\u001b[49m\u001b[43mfilename\u001b[49m\u001b[43m,\u001b[49m\u001b[43m \u001b[49m\u001b[38;5;124;43m\"\u001b[39;49m\u001b[38;5;124;43mrb\u001b[39;49m\u001b[38;5;124;43m\"\u001b[39;49m\u001b[43m)\u001b[49m\n\u001b[1;32m   2954\u001b[0m     exclusive_fp \u001b[38;5;241m=\u001b[39m \u001b[38;5;28;01mTrue\u001b[39;00m\n\u001b[1;32m   2956\u001b[0m \u001b[38;5;28;01mtry\u001b[39;00m:\n",
      "\u001b[0;31mFileNotFoundError\u001b[0m: [Errno 2] No such file or directory: 'prescription_1.jpeg'"
     ]
    }
   ],
   "source": [
    "img = mpimg.imread('prescription_1.jpeg')\n",
    "imgplot = plt.imshow(img)\n",
    "plt.show()"
   ]
  },
  {
   "cell_type": "code",
   "execution_count": null,
   "id": "381c276c",
   "metadata": {},
   "outputs": [],
   "source": [
    "def detect_document(path):\n",
    "    \"\"\"Detects document features in an image.\"\"\"\n",
    "    from google.cloud import vision\n",
    "    import io\n",
    "    client = vision.ImageAnnotatorClient()\n",
    "\n",
    "    with io.open(path, 'rb') as image_file:\n",
    "        content = image_file.read()\n",
    "\n",
    "    image = vision.Image(content=content)\n",
    "    \n",
    "    response = client.document_text_detection(image=image)\n",
    "    paragraphs_confidence=[]\n",
    "    words_dict={}\n",
    "    for page in response.full_text_annotation.pages:\n",
    "        for block in page.blocks:\n",
    "            print('\\nBlock confidence: {}\\n'.format(block.confidence))\n",
    "\n",
    "            for paragraph in block.paragraphs:\n",
    "                print('Paragraph confidence: {}'.format(\n",
    "                    paragraph.confidence))\n",
    "                paragraphs_confidence.append(paragraph.confidence)\n",
    "\n",
    "                for word in paragraph.words:\n",
    "                    word_text = ''.join([\n",
    "                        symbol.text for symbol in word.symbols\n",
    "                    ])\n",
    "                    print('Word text: {} (confidence: {})'.format(\n",
    "                        word_text, word.confidence))\n",
    "                    words_dict[word_text]=word.confidence\n",
    "                    for symbol in word.symbols:\n",
    "                        print('\\tSymbol: {} (confidence: {})'.format(\n",
    "                            symbol.text, symbol.confidence))\n",
    "\n",
    "    if response.error.message:\n",
    "        raise Exception(\n",
    "            '{}\\nFor more info on error messages, check: '\n",
    "            'https://cloud.google.com/apis/design/errors'.format(\n",
    "                response.error.message))\n",
    "    return paragraphs_confidence , words_dict\n",
    "        "
   ]
  },
  {
   "cell_type": "code",
   "execution_count": null,
   "id": "4787d7f1",
   "metadata": {
    "scrolled": false
   },
   "outputs": [],
   "source": [
    "predict=detect_document('prescription_1.jpeg')"
   ]
  },
  {
   "cell_type": "code",
   "execution_count": null,
   "id": "5c2c1369",
   "metadata": {},
   "outputs": [],
   "source": [
    "predict"
   ]
  },
  {
   "cell_type": "code",
   "execution_count": 14,
   "id": "bcef3c31",
   "metadata": {},
   "outputs": [],
   "source": [
    "def detect_text(path):\n",
    "    \"\"\"Detects text in the file.\"\"\"\n",
    "    from google.cloud import vision\n",
    "    import io\n",
    "    client = vision.ImageAnnotatorClient()\n",
    "\n",
    "    # [START vision_python_migration_text_detection]\n",
    "    with io.open(path, 'rb') as image_file:\n",
    "        content = image_file.read()\n",
    "    \n",
    "    image = vision.Image(content=content)\n",
    "\n",
    "    response = client.text_detection(image=image ,image_context={\"language_hints\": [\"ko\"]})  # Bengali\n",
    "\n",
    "    texts = response.text_annotations\n",
    "    print('Texts:')\n",
    "    \n",
    "    words_dict={}\n",
    "    words_list=[]\n",
    "    for text in texts:\n",
    "        print('\\n\"{}\"'.format(text.description))\n",
    "\n",
    "        vertices = (['({},{})'.format(vertex.x, vertex.y)\n",
    "                    for vertex in text.bounding_poly.vertices])\n",
    "\n",
    "        print('bounds: {}'.format(','.join(vertices)))\n",
    "        \n",
    "        words_dict[text.description]=list(vertices)\n",
    "        words_list.append(text.description)\n",
    "    if response.error.message:\n",
    "        raise Exception(\n",
    "            '{}\\nFor more info on error messages, check: '\n",
    "            'https://cloud.google.com/apis/design/errors'.format(\n",
    "                response.error.message))\n",
    "    return words_list"
   ]
  },
  {
   "cell_type": "code",
   "execution_count": null,
   "id": "9a344da9",
   "metadata": {
    "scrolled": true
   },
   "outputs": [],
   "source": [
    "predict_2 = detect_text('prescription_1.jpeg')\n"
   ]
  },
  {
   "cell_type": "code",
   "execution_count": null,
   "id": "203c528f",
   "metadata": {},
   "outputs": [],
   "source": [
    "del predict_2[0]\n",
    "predict_2"
   ]
  },
  {
   "cell_type": "code",
   "execution_count": null,
   "id": "dde3c1e0",
   "metadata": {},
   "outputs": [],
   "source": [
    "img = mpimg.imread('prescription_2.jpeg')\n",
    "imgplot = plt.imshow(img)\n",
    "plt.show()"
   ]
  },
  {
   "cell_type": "code",
   "execution_count": null,
   "id": "8ed01f82",
   "metadata": {
    "scrolled": true
   },
   "outputs": [],
   "source": [
    "detect_text(\"prescription_2.jpeg\")"
   ]
  },
  {
   "cell_type": "code",
   "execution_count": null,
   "id": "61a7c09e",
   "metadata": {},
   "outputs": [],
   "source": [
    "img = mpimg.imread('prescription_3.jpg')\n",
    "imgplot = plt.imshow(img)\n",
    "plt.show()"
   ]
  },
  {
   "cell_type": "code",
   "execution_count": null,
   "id": "e993da12",
   "metadata": {},
   "outputs": [],
   "source": [
    "img = mpimg.imread('prescription_3.jpg')\n",
    "imgplot = plt.imshow(img)\n",
    "plt.show()"
   ]
  },
  {
   "cell_type": "code",
   "execution_count": null,
   "id": "ce6aa981",
   "metadata": {
    "scrolled": true
   },
   "outputs": [],
   "source": [
    "predict_4= detect_text(\"prescription_4.jpg\")"
   ]
  },
  {
   "cell_type": "code",
   "execution_count": null,
   "id": "a44ecaf4",
   "metadata": {},
   "outputs": [],
   "source": [
    "predict_4[1]"
   ]
  },
  {
   "cell_type": "code",
   "execution_count": null,
   "id": "43251d9c",
   "metadata": {},
   "outputs": [],
   "source": [
    "img = mpimg.imread('prescription_5.jpg')\n",
    "imgplot = plt.imshow(img)\n",
    "plt.show()"
   ]
  },
  {
   "cell_type": "code",
   "execution_count": null,
   "id": "eb46d36e",
   "metadata": {},
   "outputs": [],
   "source": [
    "predict_5 =detect_text(\"prescription_5.jpg\")"
   ]
  },
  {
   "cell_type": "code",
   "execution_count": null,
   "id": "e82688c4",
   "metadata": {},
   "outputs": [],
   "source": [
    "predict_5"
   ]
  },
  {
   "cell_type": "code",
   "execution_count": 3,
   "id": "16c1b9fa",
   "metadata": {
    "scrolled": true
   },
   "outputs": [
    {
     "data": {
      "image/png": "[encoded data removed]",
      "text/plain": [
       "<Figure size 432x288 with 1 Axes>"
      ]
     },
     "metadata": {
      "needs_background": "light"
     },
     "output_type": "display_data"
    }
   ],
   "source": [
    "img = mpimg.imread('../imgs/receta_1.jpg')\n",
    "imgplot = plt.imshow(img)\n",
    "plt.show()"
   ]
  },
  {
   "cell_type": "code",
   "execution_count": 15,
   "id": "97b48cd0",
   "metadata": {},
   "outputs": [
    {
     "name": "stdout",
     "output_type": "stream",
     "text": [
      "Texts:\n",
      "\n",
      "\"SANATORIO\n",
      "DIAGNOSTICO\n",
      "Prestaciones Sanatoriales\n",
      "Rp/ JOSE\n",
      "GOMEZ\n",
      "27.812.934-3Enfricos\n",
      "SA 2012.\n",
      "AZITROMICINA SOO M\n",
      "X 14 COMP.\n",
      "Firma y sello\n",
      "Fecha solicitud\n",
      "25 de mayo 3240, 3000 - Santa Fe | 0800 5557264 | 342 5956663\n",
      "| www.sdiagnostico.com.ar\n",
      "contacto@sdiagnostico.com.ar\n",
      "RECETARIO CONS EXTERNO-002\"\n",
      "bounds: (1,29),(800,29),(800,1262),(1,1262)\n",
      "\n",
      "\"SANATORIO\"\n",
      "bounds: (170,35),(351,37),(351,59),(170,57)\n",
      "\n",
      "\"DIAGNOSTICO\"\n",
      "bounds: (171,62),(391,65),(391,88),(171,85)\n",
      "\n",
      "\"Prestaciones\"\n",
      "bounds: (96,119),(400,119),(400,146),(96,146)\n",
      "\n",
      "\"Sanatoriales\"\n",
      "bounds: (429,119),(728,119),(728,146),(429,146)\n",
      "\n",
      "\"Rp\"\n",
      "bounds: (97,224),(160,224),(160,269),(97,269)\n",
      "\n",
      "\"/\"\n",
      "bounds: (156,224),(180,224),(180,269),(156,269)\n",
      "\n",
      "\"JOSE\"\n",
      "bounds: (194,224),(369,224),(369,269),(194,269)\n",
      "\n",
      "\"GOMEZ\"\n",
      "bounds: (463,218),(703,225),(701,279),(461,272)\n",
      "\n",
      "\"27.812.934-3Enfricos\"\n",
      "bounds: (68,319),(711,327),(710,388),(67,380)\n",
      "\n",
      "\"SA\"\n",
      "bounds: (496,369),(552,374),(548,410),(493,405)\n",
      "\n",
      "\"2012\"\n",
      "bounds: (558,374),(657,383),(653,419),(555,410)\n",
      "\n",
      "\".\"\n",
      "bounds: (655,383),(673,385),(670,420),(652,419)\n",
      "\n",
      "\"AZITROMICINA\"\n",
      "bounds: (31,427),(421,450),(416,540),(26,517)\n",
      "\n",
      "\"SOO\"\n",
      "bounds: (447,452),(553,458),(547,548),(442,542)\n",
      "\n",
      "\"M\"\n",
      "bounds: (567,460),(659,466),(654,554),(562,549)\n",
      "\n",
      "\"X\"\n",
      "bounds: (97,522),(129,523),(127,561),(95,560)\n",
      "\n",
      "\"14\"\n",
      "bounds: (167,524),(206,526),(204,565),(165,563)\n",
      "\n",
      "\"COMP\"\n",
      "bounds: (250,528),(366,533),(364,572),(248,567)\n",
      "\n",
      "\".\"\n",
      "bounds: (369,534),(397,535),(395,573),(367,572)\n",
      "\n",
      "\"Firma\"\n",
      "bounds: (638,984),(686,981),(687,1000),(639,1003)\n",
      "\n",
      "\"y\"\n",
      "bounds: (692,981),(702,980),(703,998),(693,999)\n",
      "\n",
      "\"sello\"\n",
      "bounds: (707,979),(748,976),(749,995),(708,998)\n",
      "\n",
      "\"Fecha\"\n",
      "bounds: (105,1006),(162,1004),(163,1022),(106,1024)\n",
      "\n",
      "\"solicitud\"\n",
      "bounds: (169,1003),(254,1000),(255,1018),(170,1021)\n",
      "\n",
      "\"25\"\n",
      "bounds: (52,1188),(82,1185),(84,1211),(54,1214)\n",
      "\n",
      "\"de\"\n",
      "bounds: (88,1185),(118,1182),(120,1207),(90,1210)\n",
      "\n",
      "\"mayo\"\n",
      "bounds: (125,1182),(186,1177),(188,1203),(127,1208)\n",
      "\n",
      "\"3240\"\n",
      "bounds: (193,1176),(247,1171),(249,1196),(195,1201)\n",
      "\n",
      "\",\"\n",
      "bounds: (248,1172),(253,1172),(255,1196),(250,1197)\n",
      "\n",
      "\"3000\"\n",
      "bounds: (262,1170),(314,1166),(316,1191),(264,1196)\n",
      "\n",
      "\"-\"\n",
      "bounds: (327,1165),(337,1164),(339,1189),(329,1190)\n",
      "\n",
      "\"Santa\"\n",
      "bounds: (350,1163),(410,1158),(412,1183),(352,1188)\n",
      "\n",
      "\"Fe\"\n",
      "bounds: (418,1157),(441,1155),(443,1180),(420,1182)\n",
      "\n",
      "\"|\"\n",
      "bounds: (451,1154),(456,1154),(458,1178),(453,1179)\n",
      "\n",
      "\"0800\"\n",
      "bounds: (463,1153),(512,1149),(514,1174),(465,1178)\n",
      "\n",
      "\"5557264\"\n",
      "bounds: (520,1148),(606,1141),(608,1166),(522,1173)\n",
      "\n",
      "\"|\"\n",
      "bounds: (613,1141),(620,1140),(622,1165),(615,1166)\n",
      "\n",
      "\"342\"\n",
      "bounds: (662,1136),(698,1133),(700,1159),(664,1162)\n",
      "\n",
      "\"5956663\"\n",
      "bounds: (705,1133),(789,1126),(791,1151),(707,1158)\n",
      "\n",
      "\"|\"\n",
      "bounds: (470,1193),(478,1192),(481,1222),(473,1223)\n",
      "\n",
      "\"www.sdiagnostico.com.ar\"\n",
      "bounds: (489,1191),(796,1163),(799,1194),(492,1222)\n",
      "\n",
      "\"contacto@sdiagnostico.com.ar\"\n",
      "bounds: (49,1231),(452,1194),(455,1225),(52,1262)\n",
      "\n",
      "\"RECETARIO\"\n",
      "bounds: (1,1112),(3,1042),(16,1042),(14,1112)\n",
      "\n",
      "\"CONS\"\n",
      "bounds: (4,1038),(5,1004),(17,1004),(16,1038)\n",
      "\n",
      "\"EXTERNO\"\n",
      "bounds: (5,1000),(7,946),(20,946),(18,1000)\n",
      "\n",
      "\"-\"\n",
      "bounds: (7,944),(7,938),(19,938),(19,944)\n",
      "\n",
      "\"002\"\n",
      "bounds: (8,936),(9,916),(21,916),(20,936)\n"
     ]
    }
   ],
   "source": [
    "predict_6 =detect_text(\"../imgs/receta_1.jpg\")"
   ]
  },
  {
   "cell_type": "code",
   "execution_count": 10,
   "id": "95b60f95",
   "metadata": {},
   "outputs": [],
   "source": [
    "def detect_numbers(image_file):\n",
    "    \"\"\"Detects text in the file.\"\"\"\n",
    "    from google.cloud import vision\n",
    "    import io\n",
    "    client = vision.ImageAnnotatorClient()\n",
    "    print(\"before type\")\n",
    "\n",
    "    response = client.text_detection(image=image_file ,image_context={\"language_hints\": [\"ko\"]})  \n",
    "\n",
    "    texts = response.text_annotations\n",
    "    print('Texts:')\n",
    "\n",
    "    number_list=[]\n",
    "    for text in texts:\n",
    "        print('\\n\"{}\"'.format(text.description))\n",
    "\n",
    "        number_list.append(text.description)\n",
    "    if response.error.message:\n",
    "        raise Exception(\n",
    "            '{}\\nFor more info on error messages, check: '\n",
    "            'https://cloud.google.com/apis/design/errors'.format(\n",
    "                response.error.message))\n",
    "\n",
    "    del number_list[0]\n",
    "    return number_list"
   ]
  },
  {
   "cell_type": "code",
   "execution_count": 11,
   "id": "731aae2c",
   "metadata": {},
   "outputs": [
    {
     "name": "stdout",
     "output_type": "stream",
     "text": [
      "before type\n"
     ]
    },
    {
     "ename": "TypeError",
     "evalue": "get() expected a dict or protobuf message, got <class 'str'>.",
     "output_type": "error",
     "traceback": [
      "\u001b[0;31m---------------------------------------------------------------------------\u001b[0m",
      "\u001b[0;31mTypeError\u001b[0m                                 Traceback (most recent call last)",
      "Input \u001b[0;32mIn [11]\u001b[0m, in \u001b[0;36m<cell line: 1>\u001b[0;34m()\u001b[0m\n\u001b[0;32m----> 1\u001b[0m predict_6_numbers \u001b[38;5;241m=\u001b[39m\u001b[43mdetect_numbers\u001b[49m\u001b[43m(\u001b[49m\u001b[38;5;124;43m\"\u001b[39;49m\u001b[38;5;124;43m../imgs/receta_1.jpg\u001b[39;49m\u001b[38;5;124;43m\"\u001b[39;49m\u001b[43m)\u001b[49m\n",
      "Input \u001b[0;32mIn [10]\u001b[0m, in \u001b[0;36mdetect_numbers\u001b[0;34m(image_file)\u001b[0m\n\u001b[1;32m      5\u001b[0m client \u001b[38;5;241m=\u001b[39m vision\u001b[38;5;241m.\u001b[39mImageAnnotatorClient()\n\u001b[1;32m      6\u001b[0m \u001b[38;5;28mprint\u001b[39m(\u001b[38;5;124m\"\u001b[39m\u001b[38;5;124mbefore type\u001b[39m\u001b[38;5;124m\"\u001b[39m)\n\u001b[0;32m----> 8\u001b[0m response \u001b[38;5;241m=\u001b[39m \u001b[43mclient\u001b[49m\u001b[38;5;241;43m.\u001b[39;49m\u001b[43mtext_detection\u001b[49m\u001b[43m(\u001b[49m\u001b[43mimage\u001b[49m\u001b[38;5;241;43m=\u001b[39;49m\u001b[43mimage_file\u001b[49m\u001b[43m \u001b[49m\u001b[43m,\u001b[49m\u001b[43mimage_context\u001b[49m\u001b[38;5;241;43m=\u001b[39;49m\u001b[43m{\u001b[49m\u001b[38;5;124;43m\"\u001b[39;49m\u001b[38;5;124;43mlanguage_hints\u001b[39;49m\u001b[38;5;124;43m\"\u001b[39;49m\u001b[43m:\u001b[49m\u001b[43m \u001b[49m\u001b[43m[\u001b[49m\u001b[38;5;124;43m\"\u001b[39;49m\u001b[38;5;124;43mko\u001b[39;49m\u001b[38;5;124;43m\"\u001b[39;49m\u001b[43m]\u001b[49m\u001b[43m}\u001b[49m\u001b[43m)\u001b[49m  \n\u001b[1;32m     10\u001b[0m texts \u001b[38;5;241m=\u001b[39m response\u001b[38;5;241m.\u001b[39mtext_annotations\n\u001b[1;32m     11\u001b[0m \u001b[38;5;28mprint\u001b[39m(\u001b[38;5;124m'\u001b[39m\u001b[38;5;124mTexts:\u001b[39m\u001b[38;5;124m'\u001b[39m)\n",
      "File \u001b[0;32m~/.pyenv/versions/3.8.12/envs/lewagon/lib/python3.8/site-packages/google/cloud/vision_helpers/decorators.py:112\u001b[0m, in \u001b[0;36m_create_single_feature_method.<locals>.inner\u001b[0;34m(self, image, max_results, retry, timeout, metadata, **kwargs)\u001b[0m\n\u001b[1;32m    110\u001b[0m     copied_features[\u001b[38;5;124m\"\u001b[39m\u001b[38;5;124mmax_results\u001b[39m\u001b[38;5;124m\"\u001b[39m] \u001b[38;5;241m=\u001b[39m max_results\n\u001b[1;32m    111\u001b[0m request \u001b[38;5;241m=\u001b[39m \u001b[38;5;28mdict\u001b[39m(image\u001b[38;5;241m=\u001b[39mimage, features\u001b[38;5;241m=\u001b[39m[copied_features], \u001b[38;5;241m*\u001b[39m\u001b[38;5;241m*\u001b[39mkwargs)\n\u001b[0;32m--> 112\u001b[0m response \u001b[38;5;241m=\u001b[39m \u001b[38;5;28;43mself\u001b[39;49m\u001b[38;5;241;43m.\u001b[39;49m\u001b[43mannotate_image\u001b[49m\u001b[43m(\u001b[49m\n\u001b[1;32m    113\u001b[0m \u001b[43m    \u001b[49m\u001b[43mrequest\u001b[49m\u001b[43m,\u001b[49m\u001b[43m \u001b[49m\u001b[43mretry\u001b[49m\u001b[38;5;241;43m=\u001b[39;49m\u001b[43mretry\u001b[49m\u001b[43m,\u001b[49m\u001b[43m \u001b[49m\u001b[43mtimeout\u001b[49m\u001b[38;5;241;43m=\u001b[39;49m\u001b[43mtimeout\u001b[49m\u001b[43m,\u001b[49m\u001b[43m \u001b[49m\u001b[43mmetadata\u001b[49m\u001b[38;5;241;43m=\u001b[39;49m\u001b[43mmetadata\u001b[49m\n\u001b[1;32m    114\u001b[0m \u001b[43m\u001b[49m\u001b[43m)\u001b[49m\n\u001b[1;32m    115\u001b[0m \u001b[38;5;28;01mreturn\u001b[39;00m response\n",
      "File \u001b[0;32m~/.pyenv/versions/3.8.12/envs/lewagon/lib/python3.8/site-packages/google/cloud/vision_helpers/__init__.py:64\u001b[0m, in \u001b[0;36mVisionHelpers.annotate_image\u001b[0;34m(self, request, retry, timeout, metadata)\u001b[0m\n\u001b[1;32m     61\u001b[0m     image \u001b[38;5;241m=\u001b[39m protobuf\u001b[38;5;241m.\u001b[39mget(request, \u001b[38;5;124m\"\u001b[39m\u001b[38;5;124mimage\u001b[39m\u001b[38;5;124m\"\u001b[39m)\n\u001b[1;32m     63\u001b[0m \u001b[38;5;66;03m# If a filename is provided, read the file.\u001b[39;00m\n\u001b[0;32m---> 64\u001b[0m filename \u001b[38;5;241m=\u001b[39m \u001b[43mprotobuf\u001b[49m\u001b[38;5;241;43m.\u001b[39;49m\u001b[43mget\u001b[49m\u001b[43m(\u001b[49m\u001b[43mimage\u001b[49m\u001b[43m,\u001b[49m\u001b[43m \u001b[49m\u001b[38;5;124;43m\"\u001b[39;49m\u001b[38;5;124;43msource.filename\u001b[39;49m\u001b[38;5;124;43m\"\u001b[39;49m\u001b[43m,\u001b[49m\u001b[43m \u001b[49m\u001b[43mdefault\u001b[49m\u001b[38;5;241;43m=\u001b[39;49m\u001b[38;5;28;43;01mNone\u001b[39;49;00m\u001b[43m)\u001b[49m\n\u001b[1;32m     65\u001b[0m \u001b[38;5;28;01mif\u001b[39;00m filename:\n\u001b[1;32m     66\u001b[0m     \u001b[38;5;28;01mwith\u001b[39;00m \u001b[38;5;28mopen\u001b[39m(filename, \u001b[38;5;124m\"\u001b[39m\u001b[38;5;124mrb\u001b[39m\u001b[38;5;124m\"\u001b[39m) \u001b[38;5;28;01mas\u001b[39;00m img_file:\n",
      "File \u001b[0;32m~/.pyenv/versions/3.8.12/envs/lewagon/lib/python3.8/site-packages/google/api_core/protobuf_helpers.py:181\u001b[0m, in \u001b[0;36mget\u001b[0;34m(msg_or_dict, key, default)\u001b[0m\n\u001b[1;32m    179\u001b[0m     answer \u001b[38;5;241m=\u001b[39m msg_or_dict\u001b[38;5;241m.\u001b[39mget(key, default)\n\u001b[1;32m    180\u001b[0m \u001b[38;5;28;01melse\u001b[39;00m:\n\u001b[0;32m--> 181\u001b[0m     \u001b[38;5;28;01mraise\u001b[39;00m \u001b[38;5;167;01mTypeError\u001b[39;00m(\n\u001b[1;32m    182\u001b[0m         \u001b[38;5;124m\"\u001b[39m\u001b[38;5;124mget() expected a dict or protobuf message, got \u001b[39m\u001b[38;5;132;01m{!r}\u001b[39;00m\u001b[38;5;124m.\u001b[39m\u001b[38;5;124m\"\u001b[39m\u001b[38;5;241m.\u001b[39mformat(\n\u001b[1;32m    183\u001b[0m             \u001b[38;5;28mtype\u001b[39m(msg_or_dict)\n\u001b[1;32m    184\u001b[0m         )\n\u001b[1;32m    185\u001b[0m     )\n\u001b[1;32m    187\u001b[0m \u001b[38;5;66;03m# If the object we got back is our sentinel, raise KeyError; this is\u001b[39;00m\n\u001b[1;32m    188\u001b[0m \u001b[38;5;66;03m# a \"not found\" case.\u001b[39;00m\n\u001b[1;32m    189\u001b[0m \u001b[38;5;28;01mif\u001b[39;00m answer \u001b[38;5;129;01mis\u001b[39;00m _SENTINEL:\n",
      "\u001b[0;31mTypeError\u001b[0m: get() expected a dict or protobuf message, got <class 'str'>."
     ]
    }
   ],
   "source": [
    "predict_6_numbers =detect_numbers(\"../imgs/receta_1.jpg\")"
   ]
  },
  {
   "cell_type": "code",
   "execution_count": null,
   "id": "d69343dc",
   "metadata": {},
   "outputs": [],
   "source": [
    "def get_prob_value(target,columna,thr):\n",
    "    sims =[]\n",
    "    method= jarowinkler_similarity\n",
    "    vocab= list(set(med[columna]))\n",
    "    for word in vocab:\n",
    "        sims.append(method(target, word))\n",
    "    if np.max(sims) > thr:\n",
    "        return vocab[np.argmax(sims)]\n",
    "    else:\n",
    "        return \"error\""
   ]
  },
  {
   "cell_type": "code",
   "execution_count": null,
   "id": "097bc944",
   "metadata": {},
   "outputs": [],
   "source": []
  },
  {
   "cell_type": "code",
   "execution_count": null,
   "id": "fae1933b",
   "metadata": {},
   "outputs": [],
   "source": [
    "def prediccion_pariente(target):\n",
    "\n",
    "    final_list = []\n",
    "    for w in target:\n",
    "        droga_pred= get_prob_value(w.lower() ,'Principio activo',0.9)\n",
    "        gramaje_pred= get_prob_value(w.lower(),'Potencia',0.9)\n",
    "        unidad_pred= get_prob_value(w.lower(),'Unidad de potencia',0.8)\n",
    "\n",
    "        if droga_pred != \"error\":    \n",
    "            final_list.append(droga_pred)\n",
    "        if gramaje_pred != \"error\":    \n",
    "            final_list.append(gramaje_pred)\n",
    "        if unidad_pred != \"error\":    \n",
    "            final_list.append(unidad_pred)\n",
    "\n",
    "    return final_list"
   ]
  },
  {
   "cell_type": "code",
   "execution_count": null,
   "id": "c4c0362c",
   "metadata": {},
   "outputs": [],
   "source": [
    "prediccion_pariente(predict_6)"
   ]
  },
  {
   "cell_type": "code",
   "execution_count": null,
   "id": "d1e939c5",
   "metadata": {},
   "outputs": [],
   "source": [
    "med = pd.read_csv(\"notebooks/medicamentos.csv\", sep=';', encoding='latin-1')\n",
    "med.head()"
   ]
  },
  {
   "cell_type": "code",
   "execution_count": null,
   "id": "47b71d0e",
   "metadata": {},
   "outputs": [],
   "source": []
  },
  {
   "cell_type": "code",
   "execution_count": null,
   "id": "c66561b4",
   "metadata": {},
   "outputs": [],
   "source": []
  },
  {
   "cell_type": "code",
   "execution_count": null,
   "id": "8ba4cb58",
   "metadata": {},
   "outputs": [],
   "source": [
    "list(set(med['Principio activo']))"
   ]
  },
  {
   "cell_type": "code",
   "execution_count": null,
   "id": "953ef4c5",
   "metadata": {},
   "outputs": [],
   "source": [
    "def get_prob_value(target,columna,thr):\n",
    "    sims =[]\n",
    "    method= jarowinkler_similarity\n",
    "    vocab= list(set(med[columna]))\n",
    "    for word in vocab:\n",
    "        sims.append(method(target, word))\n",
    "    if np.max(sims) > thr:\n",
    "        return vocab[np.argmax(sims)]\n",
    "    else:\n",
    "        return \"error\""
   ]
  },
  {
   "cell_type": "code",
   "execution_count": null,
   "id": "ec954b0f",
   "metadata": {},
   "outputs": [],
   "source": [
    "def prediccion_pariente(target):\n",
    "\n",
    "    final_list = []\n",
    "    for w in target:\n",
    "        droga_pred= get_prob_value(w ,'Principio activo',0.9)\n",
    "        gramaje_pred= get_prob_value(w,'Potencia',0.9)\n",
    "        unidad_pred= get_prob_value(w,'Unidad de potencia',0.8)\n",
    "\n",
    "        if droga_pred != \"error\":    \n",
    "            final_list.append(droga_pred)\n",
    "        if gramaje_pred != \"error\":    \n",
    "            final_list.append(gramaje_pred)\n",
    "        if unidad_pred != \"error\":    \n",
    "            final_list.append(unidad_pred)\n",
    "\n",
    "    return final_list"
   ]
  },
  {
   "cell_type": "code",
   "execution_count": null,
   "id": "25d64cb8",
   "metadata": {},
   "outputs": [],
   "source": [
    "prediccion_pariente(['Jaracetamol','500','mg'])"
   ]
  },
  {
   "cell_type": "code",
   "execution_count": null,
   "id": "beb0a25b",
   "metadata": {},
   "outputs": [],
   "source": [
    "print('hola')"
   ]
  },
  {
   "cell_type": "code",
   "execution_count": null,
   "id": "02622b57",
   "metadata": {},
   "outputs": [],
   "source": []
  }
 ],
 "metadata": {
  "interpreter": {
   "hash": "96cd5912dfc8a9acd8bbb055a41e04b6605f628f8dd06608f378b1cfdbd8eb17"
  },
  "kernelspec": {
   "display_name": "Python 3 (ipykernel)",
   "language": "python",
   "name": "python3"
  },
  "language_info": {
   "codemirror_mode": {
    "name": "ipython",
    "version": 3
   },
   "file_extension": ".py",
   "mimetype": "text/x-python",
   "name": "python",
   "nbconvert_exporter": "python",
   "pygments_lexer": "ipython3",
   "version": "3.8.12"
  },
  "toc": {
   "base_numbering": 1,
   "nav_menu": {},
   "number_sections": true,
   "sideBar": true,
   "skip_h1_title": false,
   "title_cell": "Table of Contents",
   "title_sidebar": "Contents",
   "toc_cell": false,
   "toc_position": {},
   "toc_section_display": true,
   "toc_window_display": false
  }
 },
 "nbformat": 4,
 "nbformat_minor": 5
}
