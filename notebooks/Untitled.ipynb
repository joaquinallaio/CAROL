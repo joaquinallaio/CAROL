{
 "cells": [
  {
   "cell_type": "code",
   "execution_count": 29,
   "id": "5b95308e",
   "metadata": {},
   "outputs": [],
   "source": [
    "import re\n",
    "import requests\n",
    "from bs4 import BeautifulSoup\n",
    "import pandas as pd\n",
    "import numpy as np"
   ]
  },
  {
   "cell_type": "code",
   "execution_count": 7,
   "id": "837f111e",
   "metadata": {},
   "outputs": [],
   "source": [
    "response = requests.get(\"https://www.alfabeta.net/precio/abarax.html\") #, headers={\"Accept-Language\":\"en-US\"}\n",
    "soup = BeautifulSoup(response.content, \"html.parser\")"
   ]
  },
  {
   "cell_type": "markdown",
   "id": "b4819638",
   "metadata": {},
   "source": [
    "# Como obtener droga laboratorio y tipo"
   ]
  },
  {
   "cell_type": "code",
   "execution_count": null,
   "id": "03c67f88",
   "metadata": {},
   "outputs": [],
   "source": [
    "for movie in soup.find_all(\"span\", class_=\"defecto\"):\n",
    "    print(movie)"
   ]
  },
  {
   "cell_type": "code",
   "execution_count": 9,
   "id": "5bb3f9a8",
   "metadata": {},
   "outputs": [],
   "source": [
    "response = requests.get(\"https://www.alfabeta.net/precio/actron.html\") #, headers={\"Accept-Language\":\"en-US\"}\n",
    "soup = BeautifulSoup(response.content, \"html.parser\")"
   ]
  },
  {
   "cell_type": "code",
   "execution_count": 10,
   "id": "9db3ba57",
   "metadata": {
    "scrolled": true
   },
   "outputs": [
    {
     "name": "stdout",
     "output_type": "stream",
     "text": [
      "<span class=\"defecto\">Bayer Consumer</span>\n",
      "<span class=\"defecto\" style=\"word-break:break-all;\"><i>ibuprofeno</i></span>\n",
      "<span class=\"defecto\"><i>Analgésico Antiinflam.</i></span>\n"
     ]
    }
   ],
   "source": [
    "for movie in soup.find_all(\"span\", class_=\"defecto\"):\n",
    "    print(movie)"
   ]
  },
  {
   "cell_type": "code",
   "execution_count": 19,
   "id": "36c86c96",
   "metadata": {},
   "outputs": [],
   "source": [
    "lab = soup.find_all(\"span\", class_=\"defecto\")[0].string\n",
    "drug = soup.find_all(\"span\", class_=\"defecto\")[1].string\n",
    "d_type = soup.find_all(\"span\", class_=\"defecto\")[2].string"
   ]
  },
  {
   "cell_type": "markdown",
   "id": "d5bcbf5b",
   "metadata": {},
   "source": [
    "# Como obtener el resto de los datos"
   ]
  },
  {
   "cell_type": "code",
   "execution_count": 39,
   "id": "b3837e9f",
   "metadata": {
    "scrolled": true
   },
   "outputs": [
    {
     "data": {
      "text/plain": [
       "'caps.gelat.blanda x 10 (VL)'"
      ]
     },
     "execution_count": 39,
     "metadata": {},
     "output_type": "execute_result"
    }
   ],
   "source": [
    "description = soup.find_all(\"table\", class_=\"presentacion\")[0].find(\"td\", class_=\"tddesc\")\n",
    "description.get_text()"
   ]
  },
  {
   "cell_type": "code",
   "execution_count": 40,
   "id": "1c620f66",
   "metadata": {},
   "outputs": [
    {
     "data": {
      "text/plain": [
       "256.0"
      ]
     },
     "execution_count": 40,
     "metadata": {},
     "output_type": "execute_result"
    }
   ],
   "source": [
    "price = soup.find_all(\"table\", class_=\"presentacion\")[0].find(\"td\", class_=\"tdprecio\")\n",
    "float(price.get_text().replace(\"$\",\"\"))"
   ]
  },
  {
   "cell_type": "code",
   "execution_count": null,
   "id": "c426c972",
   "metadata": {},
   "outputs": [],
   "source": [
    "#tddesc #tdprecio\n",
    "a_row = pd. Series([1, 2])\n",
    "df = pd. DataFrame([[3, 4], [5, 6]])\n",
    "row_df = pd. DataFrame([a_row])\n",
    "df = pd. concat([row_df, df], ignore_index=True)\n",
    "print(df)"
   ]
  },
  {
   "cell_type": "code",
   "execution_count": 51,
   "id": "1eddf4aa",
   "metadata": {},
   "outputs": [],
   "source": [
    "df = []\n",
    "for dformat in soup.find_all(\"table\", class_=\"presentacion\"):\n",
    "    price = float(dformat.find(\"td\", class_=\"tdprecio\").get_text().replace(\"$\",\"\")) \n",
    "    description = dformat.find(\"td\", class_=\"tddesc\")\n",
    "    df.append([lab, d_type, drug, description, price])\n",
    "    \n",
    "df = pd.DataFrame(df)"
   ]
  },
  {
   "cell_type": "code",
   "execution_count": 52,
   "id": "79d76d8a",
   "metadata": {},
   "outputs": [
    {
     "data": {
      "text/html": [
       "<div>\n",
       "<style scoped>\n",
       "    .dataframe tbody tr th:only-of-type {\n",
       "        vertical-align: middle;\n",
       "    }\n",
       "\n",
       "    .dataframe tbody tr th {\n",
       "        vertical-align: top;\n",
       "    }\n",
       "\n",
       "    .dataframe thead th {\n",
       "        text-align: right;\n",
       "    }\n",
       "</style>\n",
       "<table border=\"1\" class=\"dataframe\">\n",
       "  <thead>\n",
       "    <tr style=\"text-align: right;\">\n",
       "      <th></th>\n",
       "      <th>0</th>\n",
       "      <th>1</th>\n",
       "      <th>2</th>\n",
       "      <th>3</th>\n",
       "      <th>4</th>\n",
       "    </tr>\n",
       "  </thead>\n",
       "  <tbody>\n",
       "    <tr>\n",
       "      <th>0</th>\n",
       "      <td>Bayer Consumer</td>\n",
       "      <td>Analgésico Antiinflam.</td>\n",
       "      <td>ibuprofeno</td>\n",
       "      <td>[caps.gelat.blanda x 10, [ (VL)]]</td>\n",
       "      <td>256.0</td>\n",
       "    </tr>\n",
       "    <tr>\n",
       "      <th>1</th>\n",
       "      <td>Bayer Consumer</td>\n",
       "      <td>Analgésico Antiinflam.</td>\n",
       "      <td>ibuprofeno</td>\n",
       "      <td>[caps.gelat.blanda x 20, [ (VL)]]</td>\n",
       "      <td>489.0</td>\n",
       "    </tr>\n",
       "  </tbody>\n",
       "</table>\n",
       "</div>"
      ],
      "text/plain": [
       "                0                       1           2  \\\n",
       "0  Bayer Consumer  Analgésico Antiinflam.  ibuprofeno   \n",
       "1  Bayer Consumer  Analgésico Antiinflam.  ibuprofeno   \n",
       "\n",
       "                                   3      4  \n",
       "0  [caps.gelat.blanda x 10, [ (VL)]]  256.0  \n",
       "1  [caps.gelat.blanda x 20, [ (VL)]]  489.0  "
      ]
     },
     "execution_count": 52,
     "metadata": {},
     "output_type": "execute_result"
    }
   ],
   "source": [
    "df"
   ]
  },
  {
   "cell_type": "code",
   "execution_count": 78,
   "id": "d5c79a7c",
   "metadata": {},
   "outputs": [],
   "source": [
    "def get_brand_df(brand):\n",
    "    response = requests.get(f'https://www.alfabeta.net/precio/{brand}.html') #, headers={\"Accept-Language\":\"en-US\"}\n",
    "    soup = BeautifulSoup(response.content, \"html.parser\")\n",
    "    df = []\n",
    "    \n",
    "    if len(soup.find_all(\"span\", class_=\"defecto\")) == 3:\n",
    "        lab = soup.find_all(\"span\", class_=\"defecto\")[0].string\n",
    "        drug = soup.find_all(\"span\", class_=\"defecto\")[1].string\n",
    "        d_type = soup.find_all(\"span\", class_=\"defecto\")[2].string\n",
    "\n",
    "        for dformat in soup.find_all(\"table\", class_=\"presentacion\"):\n",
    "            price = float(dformat.find(\"td\", class_=\"tdprecio\").get_text().replace(\"$\",\"\")) \n",
    "            description = dformat.find(\"td\", class_=\"tddesc\").get_text()\n",
    "            df.append([lab, d_type, drug, description, price])\n",
    "\n",
    "    return pd.DataFrame(df)"
   ]
  },
  {
   "cell_type": "code",
   "execution_count": 25,
   "id": "a2143279",
   "metadata": {},
   "outputs": [
    {
     "data": {
      "text/html": [
       "<div>\n",
       "<style scoped>\n",
       "    .dataframe tbody tr th:only-of-type {\n",
       "        vertical-align: middle;\n",
       "    }\n",
       "\n",
       "    .dataframe tbody tr th {\n",
       "        vertical-align: top;\n",
       "    }\n",
       "\n",
       "    .dataframe thead th {\n",
       "        text-align: right;\n",
       "    }\n",
       "</style>\n",
       "<table border=\"1\" class=\"dataframe\">\n",
       "  <thead>\n",
       "    <tr style=\"text-align: right;\">\n",
       "      <th></th>\n",
       "      <th>0</th>\n",
       "      <th>1</th>\n",
       "      <th>2</th>\n",
       "      <th>3</th>\n",
       "      <th>4</th>\n",
       "    </tr>\n",
       "  </thead>\n",
       "  <tbody>\n",
       "    <tr>\n",
       "      <th>0</th>\n",
       "      <td>Bayer Consumer</td>\n",
       "      <td>Analgésico Antiinflam.</td>\n",
       "      <td>ibuprofeno</td>\n",
       "      <td>caps.gelat.blanda x 10 (VL)</td>\n",
       "      <td>274.0</td>\n",
       "    </tr>\n",
       "    <tr>\n",
       "      <th>1</th>\n",
       "      <td>Bayer Consumer</td>\n",
       "      <td>Analgésico Antiinflam.</td>\n",
       "      <td>ibuprofeno</td>\n",
       "      <td>caps.gelat.blanda x 20 (VL)</td>\n",
       "      <td>523.0</td>\n",
       "    </tr>\n",
       "  </tbody>\n",
       "</table>\n",
       "</div>"
      ],
      "text/plain": [
       "                0                       1           2  \\\n",
       "0  Bayer Consumer  Analgésico Antiinflam.  ibuprofeno   \n",
       "1  Bayer Consumer  Analgésico Antiinflam.  ibuprofeno   \n",
       "\n",
       "                             3      4  \n",
       "0  caps.gelat.blanda x 10 (VL)  274.0  \n",
       "1  caps.gelat.blanda x 20 (VL)  523.0  "
      ]
     },
     "execution_count": 25,
     "metadata": {},
     "output_type": "execute_result"
    }
   ],
   "source": [
    "get_brand_df('actron')"
   ]
  },
  {
   "cell_type": "code",
   "execution_count": 26,
   "id": "83952afc",
   "metadata": {},
   "outputs": [
    {
     "data": {
      "text/html": [
       "<div>\n",
       "<style scoped>\n",
       "    .dataframe tbody tr th:only-of-type {\n",
       "        vertical-align: middle;\n",
       "    }\n",
       "\n",
       "    .dataframe tbody tr th {\n",
       "        vertical-align: top;\n",
       "    }\n",
       "\n",
       "    .dataframe thead th {\n",
       "        text-align: right;\n",
       "    }\n",
       "</style>\n",
       "<table border=\"1\" class=\"dataframe\">\n",
       "  <thead>\n",
       "    <tr style=\"text-align: right;\">\n",
       "      <th></th>\n",
       "      <th>0</th>\n",
       "      <th>1</th>\n",
       "      <th>2</th>\n",
       "      <th>3</th>\n",
       "      <th>4</th>\n",
       "    </tr>\n",
       "  </thead>\n",
       "  <tbody>\n",
       "    <tr>\n",
       "      <th>0</th>\n",
       "      <td>Pfizer</td>\n",
       "      <td>Analgésico</td>\n",
       "      <td>ketorolac</td>\n",
       "      <td>10 mg comp.x 10</td>\n",
       "      <td>778.79</td>\n",
       "    </tr>\n",
       "    <tr>\n",
       "      <th>1</th>\n",
       "      <td>Pfizer</td>\n",
       "      <td>Analgésico</td>\n",
       "      <td>ketorolac</td>\n",
       "      <td>10 mg comp.x 20</td>\n",
       "      <td>1175.47</td>\n",
       "    </tr>\n",
       "    <tr>\n",
       "      <th>2</th>\n",
       "      <td>Pfizer</td>\n",
       "      <td>Analgésico</td>\n",
       "      <td>ketorolac</td>\n",
       "      <td>20 mg comp.x 10</td>\n",
       "      <td>1144.04</td>\n",
       "    </tr>\n",
       "    <tr>\n",
       "      <th>3</th>\n",
       "      <td>Pfizer</td>\n",
       "      <td>Analgésico</td>\n",
       "      <td>ketorolac</td>\n",
       "      <td>20 mg comp.x 20</td>\n",
       "      <td>1804.68</td>\n",
       "    </tr>\n",
       "    <tr>\n",
       "      <th>4</th>\n",
       "      <td>Pfizer</td>\n",
       "      <td>Analgésico</td>\n",
       "      <td>ketorolac</td>\n",
       "      <td>30 mg iny.a.x 5 x 2 ml</td>\n",
       "      <td>1014.53</td>\n",
       "    </tr>\n",
       "    <tr>\n",
       "      <th>5</th>\n",
       "      <td>Pfizer</td>\n",
       "      <td>Analgésico</td>\n",
       "      <td>ketorolac</td>\n",
       "      <td>30 mg iny.a.x 50 x 2 ml</td>\n",
       "      <td>10627.90</td>\n",
       "    </tr>\n",
       "    <tr>\n",
       "      <th>6</th>\n",
       "      <td>Pfizer</td>\n",
       "      <td>Analgésico</td>\n",
       "      <td>ketorolac</td>\n",
       "      <td>60 mg iny.a.x 1 x 2 ml</td>\n",
       "      <td>511.87</td>\n",
       "    </tr>\n",
       "    <tr>\n",
       "      <th>7</th>\n",
       "      <td>Pfizer</td>\n",
       "      <td>Analgésico</td>\n",
       "      <td>ketorolac</td>\n",
       "      <td>60 mg iny.a.x 3 x 2 ml</td>\n",
       "      <td>1539.37</td>\n",
       "    </tr>\n",
       "  </tbody>\n",
       "</table>\n",
       "</div>"
      ],
      "text/plain": [
       "        0           1          2                        3         4\n",
       "0  Pfizer  Analgésico  ketorolac          10 mg comp.x 10    778.79\n",
       "1  Pfizer  Analgésico  ketorolac          10 mg comp.x 20   1175.47\n",
       "2  Pfizer  Analgésico  ketorolac          20 mg comp.x 10   1144.04\n",
       "3  Pfizer  Analgésico  ketorolac          20 mg comp.x 20   1804.68\n",
       "4  Pfizer  Analgésico  ketorolac   30 mg iny.a.x 5 x 2 ml   1014.53\n",
       "5  Pfizer  Analgésico  ketorolac  30 mg iny.a.x 50 x 2 ml  10627.90\n",
       "6  Pfizer  Analgésico  ketorolac   60 mg iny.a.x 1 x 2 ml    511.87\n",
       "7  Pfizer  Analgésico  ketorolac   60 mg iny.a.x 3 x 2 ml   1539.37"
      ]
     },
     "execution_count": 26,
     "metadata": {},
     "output_type": "execute_result"
    }
   ],
   "source": [
    "get_brand_df('dolten')"
   ]
  },
  {
   "cell_type": "code",
   "execution_count": 11,
   "id": "9428b3ba",
   "metadata": {
    "scrolled": true
   },
   "outputs": [
    {
     "data": {
      "text/html": [
       "<div>\n",
       "<style scoped>\n",
       "    .dataframe tbody tr th:only-of-type {\n",
       "        vertical-align: middle;\n",
       "    }\n",
       "\n",
       "    .dataframe tbody tr th {\n",
       "        vertical-align: top;\n",
       "    }\n",
       "\n",
       "    .dataframe thead th {\n",
       "        text-align: right;\n",
       "    }\n",
       "</style>\n",
       "<table border=\"1\" class=\"dataframe\">\n",
       "  <thead>\n",
       "    <tr style=\"text-align: right;\">\n",
       "      <th></th>\n",
       "      <th>0</th>\n",
       "      <th>1</th>\n",
       "      <th>2</th>\n",
       "      <th>3</th>\n",
       "      <th>4</th>\n",
       "    </tr>\n",
       "  </thead>\n",
       "  <tbody>\n",
       "    <tr>\n",
       "      <th>0</th>\n",
       "      <td>Organon Arg.</td>\n",
       "      <td>Antialérgico Antiinflamatorio</td>\n",
       "      <td>mometasona furoato</td>\n",
       "      <td>Nas.spray acuoso x140ds.</td>\n",
       "      <td>4526.15</td>\n",
       "    </tr>\n",
       "  </tbody>\n",
       "</table>\n",
       "</div>"
      ],
      "text/plain": [
       "              0                              1                   2  \\\n",
       "0  Organon Arg.  Antialérgico Antiinflamatorio  mometasona furoato   \n",
       "\n",
       "                          3        4  \n",
       "0  Nas.spray acuoso x140ds.  4526.15  "
      ]
     },
     "execution_count": 11,
     "metadata": {},
     "output_type": "execute_result"
    }
   ],
   "source": [
    "get_brand_df('nasonex')"
   ]
  },
  {
   "cell_type": "markdown",
   "id": "1aa9b70d",
   "metadata": {},
   "source": [
    "# Como obtener la lista de brands"
   ]
  },
  {
   "cell_type": "code",
   "execution_count": 40,
   "id": "d2d5cc62",
   "metadata": {},
   "outputs": [],
   "source": [
    "brands_df = pd.read_csv('brands.csv')"
   ]
  },
  {
   "cell_type": "code",
   "execution_count": 41,
   "id": "bf04347b",
   "metadata": {},
   "outputs": [
    {
     "data": {
      "text/html": [
       "<div>\n",
       "<style scoped>\n",
       "    .dataframe tbody tr th:only-of-type {\n",
       "        vertical-align: middle;\n",
       "    }\n",
       "\n",
       "    .dataframe tbody tr th {\n",
       "        vertical-align: top;\n",
       "    }\n",
       "\n",
       "    .dataframe thead th {\n",
       "        text-align: right;\n",
       "    }\n",
       "</style>\n",
       "<table border=\"1\" class=\"dataframe\">\n",
       "  <thead>\n",
       "    <tr style=\"text-align: right;\">\n",
       "      <th></th>\n",
       "      <th>brands</th>\n",
       "    </tr>\n",
       "  </thead>\n",
       "  <tbody>\n",
       "    <tr>\n",
       "      <th>0</th>\n",
       "      <td>actron</td>\n",
       "    </tr>\n",
       "    <tr>\n",
       "      <th>1</th>\n",
       "      <td>tafirol</td>\n",
       "    </tr>\n",
       "    <tr>\n",
       "      <th>2</th>\n",
       "      <td>abarax</td>\n",
       "    </tr>\n",
       "  </tbody>\n",
       "</table>\n",
       "</div>"
      ],
      "text/plain": [
       "    brands\n",
       "0   actron\n",
       "1  tafirol\n",
       "2   abarax"
      ]
     },
     "execution_count": 41,
     "metadata": {},
     "output_type": "execute_result"
    }
   ],
   "source": [
    "brands_df"
   ]
  },
  {
   "cell_type": "code",
   "execution_count": 43,
   "id": "7e3225f6",
   "metadata": {},
   "outputs": [],
   "source": [
    "brands = brands_df['brands'].to_numpy()"
   ]
  },
  {
   "cell_type": "code",
   "execution_count": 45,
   "id": "c7d84b73",
   "metadata": {},
   "outputs": [
    {
     "name": "stdout",
     "output_type": "stream",
     "text": [
      "brands.csv  elea.html  pfizer.html  Untitled.ipynb\r\n"
     ]
    }
   ],
   "source": [
    "!ls"
   ]
  },
  {
   "cell_type": "markdown",
   "id": "5917f3e4",
   "metadata": {},
   "source": [
    "# Sacar las marcas de las paginas de los laboratorios"
   ]
  },
  {
   "cell_type": "code",
   "execution_count": 46,
   "id": "3a54b2e5",
   "metadata": {},
   "outputs": [],
   "source": [
    "pfizer_page = open('pfizer.html')\n",
    "pfizer_soup = BeautifulSoup(pfizer_page.read())"
   ]
  },
  {
   "cell_type": "code",
   "execution_count": 92,
   "id": "4d00e337",
   "metadata": {},
   "outputs": [],
   "source": [
    "list_of_labs = ['bago', 'elea', 'pfizer']"
   ]
  },
  {
   "cell_type": "code",
   "execution_count": 83,
   "id": "ea0a7c07",
   "metadata": {},
   "outputs": [],
   "source": [
    "list_of_labs = ['elea']"
   ]
  },
  {
   "cell_type": "code",
   "execution_count": 94,
   "id": "e88dd672",
   "metadata": {},
   "outputs": [],
   "source": [
    "def get_brands(list_of_labs):\n",
    "    brands = []\n",
    "    for lab in list_of_labs:\n",
    "        page = open(f'{lab}.html')\n",
    "        soup = BeautifulSoup(page.read())\n",
    "        for brand in pfizer_soup.find_all(\"a\", class_=\"rprod\"):\n",
    "            brands.append(brand.string.split(\" \")[0].lower())\n",
    "        \n",
    "    return brands"
   ]
  },
  {
   "cell_type": "code",
   "execution_count": 96,
   "id": "463291c9",
   "metadata": {},
   "outputs": [],
   "source": [
    "list_of_brands = list(set(get_brands(list_of_labs)))"
   ]
  },
  {
   "cell_type": "code",
   "execution_count": 97,
   "id": "3a514d36",
   "metadata": {},
   "outputs": [
    {
     "data": {
      "text/plain": [
       "['azulfidine',\n",
       " 'celebrex',\n",
       " 'vibramicina',\n",
       " 'isordil',\n",
       " 'trapax',\n",
       " 'depo-provera',\n",
       " 'ixifi',\n",
       " 'xalatan',\n",
       " 'zoloft',\n",
       " 'nordette',\n",
       " 'terra',\n",
       " 'talzenna',\n",
       " 'synrelin',\n",
       " 'fasigyn',\n",
       " 'arteriopril',\n",
       " 'xanax',\n",
       " 'dolten',\n",
       " 'tigify',\n",
       " 'vyndaqel',\n",
       " 'pergamid',\n",
       " 'ibrance',\n",
       " 'lipitor',\n",
       " 'aldactone',\n",
       " 'respimex',\n",
       " 'v',\n",
       " 'ibumax',\n",
       " 'benefix',\n",
       " 'rosuvastatina',\n",
       " 'ibupiretas',\n",
       " 'genotropin',\n",
       " 'viagra',\n",
       " 'abrilada',\n",
       " 'champix',\n",
       " 'dalacin',\n",
       " 'lopid',\n",
       " 'detrusitol',\n",
       " 'rapamune',\n",
       " 'losartan',\n",
       " 'nimenrix',\n",
       " 'pristiq',\n",
       " 'diabinese',\n",
       " 'prolisina',\n",
       " 'dostinex',\n",
       " 'eliquis',\n",
       " 'trazimera',\n",
       " 'sutent',\n",
       " 'zyvox',\n",
       " 'farlutale',\n",
       " 'micronema',\n",
       " 'unasyna',\n",
       " 'inlyta',\n",
       " 'artane',\n",
       " 'somavert',\n",
       " 'trosyd',\n",
       " 'vyndamax',\n",
       " 'xyntha',\n",
       " 'vizimpro',\n",
       " 'ronfase',\n",
       " 'lyrica',\n",
       " 'zavedos',\n",
       " 'cardura',\n",
       " 'zavicefta',\n",
       " 'tramadolten',\n",
       " 'aromasin',\n",
       " 'prevenar',\n",
       " 'solu',\n",
       " 'farmorubicin',\n",
       " 'merozen',\n",
       " 'ruxience',\n",
       " 'zeldox',\n",
       " 'cabaser',\n",
       " 'enbrel',\n",
       " 'premarin',\n",
       " 'minodiab',\n",
       " 'bosulif',\n",
       " 'mucoprednibron',\n",
       " 'besponsa',\n",
       " 'zinforo',\n",
       " 'ibupirac',\n",
       " 'zitromax',\n",
       " 'debridat',\n",
       " 'zirabev',\n",
       " 'tygacil',\n",
       " 'adriblastina',\n",
       " 'neurontin',\n",
       " 'xeljanz',\n",
       " 'efexor',\n",
       " 'relpax',\n",
       " 'xalkori',\n",
       " 'amloc',\n",
       " 'xalacom',\n",
       " 'ecalta',\n",
       " 'lebocar',\n",
       " 'co']"
      ]
     },
     "execution_count": 97,
     "metadata": {},
     "output_type": "execute_result"
    }
   ],
   "source": [
    "list_of_brands"
   ]
  },
  {
   "cell_type": "code",
   "execution_count": 86,
   "id": "c819ddb2",
   "metadata": {},
   "outputs": [],
   "source": [
    "def get_df(list_of_brands):\n",
    "    df = pd.DataFrame()\n",
    "    for brand in list_of_brands:\n",
    "        brand_df = get_brand_df(brand)\n",
    "        pd.concat([df, brand_df])\n",
    "    return df"
   ]
  },
  {
   "cell_type": "code",
   "execution_count": 87,
   "id": "1d2fa9d0",
   "metadata": {},
   "outputs": [],
   "source": [
    "df = get_df(list_of_brands)"
   ]
  },
  {
   "cell_type": "code",
   "execution_count": 88,
   "id": "c3106d5d",
   "metadata": {},
   "outputs": [
    {
     "data": {
      "text/html": [
       "<div>\n",
       "<style scoped>\n",
       "    .dataframe tbody tr th:only-of-type {\n",
       "        vertical-align: middle;\n",
       "    }\n",
       "\n",
       "    .dataframe tbody tr th {\n",
       "        vertical-align: top;\n",
       "    }\n",
       "\n",
       "    .dataframe thead th {\n",
       "        text-align: right;\n",
       "    }\n",
       "</style>\n",
       "<table border=\"1\" class=\"dataframe\">\n",
       "  <thead>\n",
       "    <tr style=\"text-align: right;\">\n",
       "      <th></th>\n",
       "    </tr>\n",
       "  </thead>\n",
       "  <tbody>\n",
       "  </tbody>\n",
       "</table>\n",
       "</div>"
      ],
      "text/plain": [
       "Empty DataFrame\n",
       "Columns: []\n",
       "Index: []"
      ]
     },
     "execution_count": 88,
     "metadata": {},
     "output_type": "execute_result"
    }
   ],
   "source": []
  }
 ],
 "metadata": {
  "kernelspec": {
   "display_name": "Python 3 (ipykernel)",
   "language": "python",
   "name": "python3"
  },
  "language_info": {
   "codemirror_mode": {
    "name": "ipython",
    "version": 3
   },
   "file_extension": ".py",
   "mimetype": "text/x-python",
   "name": "python",
   "nbconvert_exporter": "python",
   "pygments_lexer": "ipython3",
   "version": "3.8.12"
  },
  "toc": {
   "base_numbering": 1,
   "nav_menu": {},
   "number_sections": true,
   "sideBar": true,
   "skip_h1_title": false,
   "title_cell": "Table of Contents",
   "title_sidebar": "Contents",
   "toc_cell": false,
   "toc_position": {},
   "toc_section_display": true,
   "toc_window_display": false
  }
 },
 "nbformat": 4,
 "nbformat_minor": 5
}
