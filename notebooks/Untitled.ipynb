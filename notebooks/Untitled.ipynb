{
 "cells": [
  {
   "cell_type": "code",
   "execution_count": 42,
   "id": "5b95308e",
   "metadata": {},
   "outputs": [],
   "source": [
    "import re\n",
    "import requests\n",
    "from bs4 import BeautifulSoup\n",
    "import pandas as pd"
   ]
  },
  {
   "cell_type": "code",
   "execution_count": 7,
   "id": "837f111e",
   "metadata": {},
   "outputs": [],
   "source": [
    "response = requests.get(\"https://www.alfabeta.net/precio/abarax.html\") #, headers={\"Accept-Language\":\"en-US\"}\n",
    "soup = BeautifulSoup(response.content, \"html.parser\")"
   ]
  },
  {
   "cell_type": "markdown",
   "id": "b4819638",
   "metadata": {},
   "source": [
    "# Como obtener droga laboratorio y tipo"
   ]
  },
  {
   "cell_type": "code",
   "execution_count": null,
   "id": "03c67f88",
   "metadata": {},
   "outputs": [],
   "source": [
    "for movie in soup.find_all(\"span\", class_=\"defecto\"):\n",
    "    print(movie)"
   ]
  },
  {
   "cell_type": "code",
   "execution_count": 9,
   "id": "5bb3f9a8",
   "metadata": {},
   "outputs": [],
   "source": [
    "response = requests.get(\"https://www.alfabeta.net/precio/actron.html\") #, headers={\"Accept-Language\":\"en-US\"}\n",
    "soup = BeautifulSoup(response.content, \"html.parser\")"
   ]
  },
  {
   "cell_type": "code",
   "execution_count": 10,
   "id": "9db3ba57",
   "metadata": {
    "scrolled": true
   },
   "outputs": [
    {
     "name": "stdout",
     "output_type": "stream",
     "text": [
      "<span class=\"defecto\">Bayer Consumer</span>\n",
      "<span class=\"defecto\" style=\"word-break:break-all;\"><i>ibuprofeno</i></span>\n",
      "<span class=\"defecto\"><i>Analgésico Antiinflam.</i></span>\n"
     ]
    }
   ],
   "source": [
    "for movie in soup.find_all(\"span\", class_=\"defecto\"):\n",
    "    print(movie)"
   ]
  },
  {
   "cell_type": "code",
   "execution_count": 19,
   "id": "36c86c96",
   "metadata": {},
   "outputs": [],
   "source": [
    "lab = soup.find_all(\"span\", class_=\"defecto\")[0].string\n",
    "drug = soup.find_all(\"span\", class_=\"defecto\")[1].string\n",
    "d_type = soup.find_all(\"span\", class_=\"defecto\")[2].string"
   ]
  },
  {
   "cell_type": "markdown",
   "id": "d5bcbf5b",
   "metadata": {},
   "source": [
    "# Como obtener el resto de los datos"
   ]
  },
  {
   "cell_type": "code",
   "execution_count": 39,
   "id": "b3837e9f",
   "metadata": {
    "scrolled": true
   },
   "outputs": [
    {
     "data": {
      "text/plain": [
       "'caps.gelat.blanda x 10 (VL)'"
      ]
     },
     "execution_count": 39,
     "metadata": {},
     "output_type": "execute_result"
    }
   ],
   "source": [
    "description = soup.find_all(\"table\", class_=\"presentacion\")[0].find(\"td\", class_=\"tddesc\")\n",
    "description.get_text()"
   ]
  },
  {
   "cell_type": "code",
   "execution_count": 40,
   "id": "1c620f66",
   "metadata": {},
   "outputs": [
    {
     "data": {
      "text/plain": [
       "256.0"
      ]
     },
     "execution_count": 40,
     "metadata": {},
     "output_type": "execute_result"
    }
   ],
   "source": [
    "price = soup.find_all(\"table\", class_=\"presentacion\")[0].find(\"td\", class_=\"tdprecio\")\n",
    "float(price.get_text().replace(\"$\",\"\"))"
   ]
  },
  {
   "cell_type": "code",
   "execution_count": null,
   "id": "c426c972",
   "metadata": {},
   "outputs": [],
   "source": [
    "#tddesc #tdprecio\n",
    "a_row = pd. Series([1, 2])\n",
    "df = pd. DataFrame([[3, 4], [5, 6]])\n",
    "row_df = pd. DataFrame([a_row])\n",
    "df = pd. concat([row_df, df], ignore_index=True)\n",
    "print(df)"
   ]
  },
  {
   "cell_type": "code",
   "execution_count": 51,
   "id": "1eddf4aa",
   "metadata": {},
   "outputs": [],
   "source": [
    "df = []\n",
    "for dformat in soup.find_all(\"table\", class_=\"presentacion\"):\n",
    "    price = float(dformat.find(\"td\", class_=\"tdprecio\").get_text().replace(\"$\",\"\")) \n",
    "    description = dformat.find(\"td\", class_=\"tddesc\")\n",
    "    df.append([lab, d_type, drug, description, price])\n",
    "    \n",
    "df = pd.DataFrame(df)"
   ]
  },
  {
   "cell_type": "code",
   "execution_count": 52,
   "id": "79d76d8a",
   "metadata": {},
   "outputs": [
    {
     "data": {
      "text/html": [
       "<div>\n",
       "<style scoped>\n",
       "    .dataframe tbody tr th:only-of-type {\n",
       "        vertical-align: middle;\n",
       "    }\n",
       "\n",
       "    .dataframe tbody tr th {\n",
       "        vertical-align: top;\n",
       "    }\n",
       "\n",
       "    .dataframe thead th {\n",
       "        text-align: right;\n",
       "    }\n",
       "</style>\n",
       "<table border=\"1\" class=\"dataframe\">\n",
       "  <thead>\n",
       "    <tr style=\"text-align: right;\">\n",
       "      <th></th>\n",
       "      <th>0</th>\n",
       "      <th>1</th>\n",
       "      <th>2</th>\n",
       "      <th>3</th>\n",
       "      <th>4</th>\n",
       "    </tr>\n",
       "  </thead>\n",
       "  <tbody>\n",
       "    <tr>\n",
       "      <th>0</th>\n",
       "      <td>Bayer Consumer</td>\n",
       "      <td>Analgésico Antiinflam.</td>\n",
       "      <td>ibuprofeno</td>\n",
       "      <td>[caps.gelat.blanda x 10, [ (VL)]]</td>\n",
       "      <td>256.0</td>\n",
       "    </tr>\n",
       "    <tr>\n",
       "      <th>1</th>\n",
       "      <td>Bayer Consumer</td>\n",
       "      <td>Analgésico Antiinflam.</td>\n",
       "      <td>ibuprofeno</td>\n",
       "      <td>[caps.gelat.blanda x 20, [ (VL)]]</td>\n",
       "      <td>489.0</td>\n",
       "    </tr>\n",
       "  </tbody>\n",
       "</table>\n",
       "</div>"
      ],
      "text/plain": [
       "                0                       1           2  \\\n",
       "0  Bayer Consumer  Analgésico Antiinflam.  ibuprofeno   \n",
       "1  Bayer Consumer  Analgésico Antiinflam.  ibuprofeno   \n",
       "\n",
       "                                   3      4  \n",
       "0  [caps.gelat.blanda x 10, [ (VL)]]  256.0  \n",
       "1  [caps.gelat.blanda x 20, [ (VL)]]  489.0  "
      ]
     },
     "execution_count": 52,
     "metadata": {},
     "output_type": "execute_result"
    }
   ],
   "source": [
    "df"
   ]
  }
 ],
 "metadata": {
  "kernelspec": {
   "display_name": "Python 3 (ipykernel)",
   "language": "python",
   "name": "python3"
  },
  "language_info": {
   "codemirror_mode": {
    "name": "ipython",
    "version": 3
   },
   "file_extension": ".py",
   "mimetype": "text/x-python",
   "name": "python",
   "nbconvert_exporter": "python",
   "pygments_lexer": "ipython3",
   "version": "3.8.12"
  },
  "toc": {
   "base_numbering": 1,
   "nav_menu": {},
   "number_sections": true,
   "sideBar": true,
   "skip_h1_title": false,
   "title_cell": "Table of Contents",
   "title_sidebar": "Contents",
   "toc_cell": false,
   "toc_position": {},
   "toc_section_display": true,
   "toc_window_display": false
  }
 },
 "nbformat": 4,
 "nbformat_minor": 5
}
